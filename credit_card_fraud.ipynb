{
 "cells": [
  {
   "cell_type": "code",
   "execution_count": 1,
   "id": "c52a38a8-dcef-4b3e-976d-b76eceb2edbb",
   "metadata": {
    "tags": []
   },
   "outputs": [],
   "source": [
    "import pandas as pd\n",
    "import numpy as np\n",
    "import matplotlib.pyplot as plt\n",
    "import seaborn as sns\n",
    "\n",
    "import warnings\n",
    "warnings.filterwarnings(\"ignore\")\n",
    "%matplotlib inline \n",
    "\n",
    "from sklearn.model_selection import train_test_split\n",
    "from sklearn.preprocessing import StandardScaler, RobustScaler\n",
    "from sklearn.linear_model import LogisticRegression\n",
    "from sklearn.neighbors import KNeighborsClassifier\n",
    "from sklearn.ensemble import RandomForestClassifier\n",
    "from xgboost import XGBClassifier\n",
    "from sklearn.svm import SVC\n",
    "from sklearn.ensemble import GradientBoostingClassifier\n",
    "from sklearn.tree import DecisionTreeClassifier\n",
    "from catboost import CatBoostClassifier\n",
    "from lightgbm import LGBMClassifier\n",
    "from sklearn.model_selection import cross_val_score\n",
    "from sklearn.metrics import confusion_matrix, classification_report\n",
    "from sklearn.metrics import precision_score, recall_score, f1_score\n",
    "from sklearn.metrics import roc_curve, roc_auc_score"
   ]
  },
  {
   "cell_type": "code",
   "execution_count": 2,
   "id": "04f2ea1c-44bd-407b-a825-fce917744fa4",
   "metadata": {
    "tags": []
   },
   "outputs": [],
   "source": [
    "pd.set_option(\"display.max_columns\", None)\n",
    "pd.set_option(\"display.max_rows\",False)"
   ]
  },
  {
   "cell_type": "code",
   "execution_count": 74,
   "id": "60d1584c-d309-408a-80f0-79fe458b0150",
   "metadata": {
    "tags": []
   },
   "outputs": [],
   "source": [
    "data=pd.read_csv(\"fraud_data.csv\")"
   ]
  },
  {
   "cell_type": "code",
   "execution_count": 146,
   "id": "d17e9d9b-13a6-4367-8fb3-c6431b6e2df5",
   "metadata": {
    "tags": []
   },
   "outputs": [
    {
     "data": {
      "text/html": [
       "<div>\n",
       "<style scoped>\n",
       "    .dataframe tbody tr th:only-of-type {\n",
       "        vertical-align: middle;\n",
       "    }\n",
       "\n",
       "    .dataframe tbody tr th {\n",
       "        vertical-align: top;\n",
       "    }\n",
       "\n",
       "    .dataframe thead th {\n",
       "        text-align: right;\n",
       "    }\n",
       "</style>\n",
       "<table border=\"1\" class=\"dataframe\">\n",
       "  <thead>\n",
       "    <tr style=\"text-align: right;\">\n",
       "      <th></th>\n",
       "      <th>Time</th>\n",
       "      <th>V1</th>\n",
       "      <th>V2</th>\n",
       "      <th>V3</th>\n",
       "      <th>V4</th>\n",
       "      <th>V5</th>\n",
       "      <th>V6</th>\n",
       "      <th>V7</th>\n",
       "      <th>V8</th>\n",
       "      <th>V9</th>\n",
       "      <th>V10</th>\n",
       "      <th>V11</th>\n",
       "      <th>V12</th>\n",
       "      <th>V13</th>\n",
       "      <th>V14</th>\n",
       "      <th>V15</th>\n",
       "      <th>V16</th>\n",
       "      <th>V17</th>\n",
       "      <th>V18</th>\n",
       "      <th>V19</th>\n",
       "      <th>V20</th>\n",
       "      <th>V21</th>\n",
       "      <th>V22</th>\n",
       "      <th>V23</th>\n",
       "      <th>V24</th>\n",
       "      <th>V25</th>\n",
       "      <th>V26</th>\n",
       "      <th>V27</th>\n",
       "      <th>V28</th>\n",
       "      <th>Amount</th>\n",
       "      <th>Class</th>\n",
       "    </tr>\n",
       "  </thead>\n",
       "  <tbody>\n",
       "    <tr>\n",
       "      <th>0</th>\n",
       "      <td>0.0</td>\n",
       "      <td>-1.359807</td>\n",
       "      <td>-0.072781</td>\n",
       "      <td>2.536347</td>\n",
       "      <td>1.378155</td>\n",
       "      <td>-0.338321</td>\n",
       "      <td>0.462388</td>\n",
       "      <td>0.239599</td>\n",
       "      <td>0.098698</td>\n",
       "      <td>0.363787</td>\n",
       "      <td>0.090794</td>\n",
       "      <td>-0.551600</td>\n",
       "      <td>-0.617801</td>\n",
       "      <td>-0.991390</td>\n",
       "      <td>-0.311169</td>\n",
       "      <td>1.468177</td>\n",
       "      <td>-0.470401</td>\n",
       "      <td>0.207971</td>\n",
       "      <td>0.025791</td>\n",
       "      <td>0.403993</td>\n",
       "      <td>0.251412</td>\n",
       "      <td>-0.018307</td>\n",
       "      <td>0.277838</td>\n",
       "      <td>-0.110474</td>\n",
       "      <td>0.066928</td>\n",
       "      <td>0.128539</td>\n",
       "      <td>-0.189115</td>\n",
       "      <td>0.133558</td>\n",
       "      <td>-0.021053</td>\n",
       "      <td>149.62</td>\n",
       "      <td>0</td>\n",
       "    </tr>\n",
       "    <tr>\n",
       "      <th>1</th>\n",
       "      <td>0.0</td>\n",
       "      <td>1.191857</td>\n",
       "      <td>0.266151</td>\n",
       "      <td>0.166480</td>\n",
       "      <td>0.448154</td>\n",
       "      <td>0.060018</td>\n",
       "      <td>-0.082361</td>\n",
       "      <td>-0.078803</td>\n",
       "      <td>0.085102</td>\n",
       "      <td>-0.255425</td>\n",
       "      <td>-0.166974</td>\n",
       "      <td>1.612727</td>\n",
       "      <td>1.065235</td>\n",
       "      <td>0.489095</td>\n",
       "      <td>-0.143772</td>\n",
       "      <td>0.635558</td>\n",
       "      <td>0.463917</td>\n",
       "      <td>-0.114805</td>\n",
       "      <td>-0.183361</td>\n",
       "      <td>-0.145783</td>\n",
       "      <td>-0.069083</td>\n",
       "      <td>-0.225775</td>\n",
       "      <td>-0.638672</td>\n",
       "      <td>0.101288</td>\n",
       "      <td>-0.339846</td>\n",
       "      <td>0.167170</td>\n",
       "      <td>0.125895</td>\n",
       "      <td>-0.008983</td>\n",
       "      <td>0.014724</td>\n",
       "      <td>2.69</td>\n",
       "      <td>0</td>\n",
       "    </tr>\n",
       "    <tr>\n",
       "      <th>2</th>\n",
       "      <td>1.0</td>\n",
       "      <td>-1.358354</td>\n",
       "      <td>-1.340163</td>\n",
       "      <td>1.773209</td>\n",
       "      <td>0.379780</td>\n",
       "      <td>-0.503198</td>\n",
       "      <td>1.800499</td>\n",
       "      <td>0.791461</td>\n",
       "      <td>0.247676</td>\n",
       "      <td>-1.514654</td>\n",
       "      <td>0.207643</td>\n",
       "      <td>0.624501</td>\n",
       "      <td>0.066084</td>\n",
       "      <td>0.717293</td>\n",
       "      <td>-0.165946</td>\n",
       "      <td>2.345865</td>\n",
       "      <td>-2.890083</td>\n",
       "      <td>1.109969</td>\n",
       "      <td>-0.121359</td>\n",
       "      <td>-2.261857</td>\n",
       "      <td>0.524980</td>\n",
       "      <td>0.247998</td>\n",
       "      <td>0.771679</td>\n",
       "      <td>0.909412</td>\n",
       "      <td>-0.689281</td>\n",
       "      <td>-0.327642</td>\n",
       "      <td>-0.139097</td>\n",
       "      <td>-0.055353</td>\n",
       "      <td>-0.059752</td>\n",
       "      <td>378.66</td>\n",
       "      <td>0</td>\n",
       "    </tr>\n",
       "    <tr>\n",
       "      <th>3</th>\n",
       "      <td>1.0</td>\n",
       "      <td>-0.966272</td>\n",
       "      <td>-0.185226</td>\n",
       "      <td>1.792993</td>\n",
       "      <td>-0.863291</td>\n",
       "      <td>-0.010309</td>\n",
       "      <td>1.247203</td>\n",
       "      <td>0.237609</td>\n",
       "      <td>0.377436</td>\n",
       "      <td>-1.387024</td>\n",
       "      <td>-0.054952</td>\n",
       "      <td>-0.226487</td>\n",
       "      <td>0.178228</td>\n",
       "      <td>0.507757</td>\n",
       "      <td>-0.287924</td>\n",
       "      <td>-0.631418</td>\n",
       "      <td>-1.059647</td>\n",
       "      <td>-0.684093</td>\n",
       "      <td>1.965775</td>\n",
       "      <td>-1.232622</td>\n",
       "      <td>-0.208038</td>\n",
       "      <td>-0.108300</td>\n",
       "      <td>0.005274</td>\n",
       "      <td>-0.190321</td>\n",
       "      <td>-1.175575</td>\n",
       "      <td>0.647376</td>\n",
       "      <td>-0.221929</td>\n",
       "      <td>0.062723</td>\n",
       "      <td>0.061458</td>\n",
       "      <td>123.50</td>\n",
       "      <td>0</td>\n",
       "    </tr>\n",
       "    <tr>\n",
       "      <th>4</th>\n",
       "      <td>2.0</td>\n",
       "      <td>-1.158233</td>\n",
       "      <td>0.877737</td>\n",
       "      <td>1.548718</td>\n",
       "      <td>0.403034</td>\n",
       "      <td>-0.407193</td>\n",
       "      <td>0.095921</td>\n",
       "      <td>0.592941</td>\n",
       "      <td>-0.270533</td>\n",
       "      <td>0.817739</td>\n",
       "      <td>0.753074</td>\n",
       "      <td>-0.822843</td>\n",
       "      <td>0.538196</td>\n",
       "      <td>1.345852</td>\n",
       "      <td>-1.119670</td>\n",
       "      <td>0.175121</td>\n",
       "      <td>-0.451449</td>\n",
       "      <td>-0.237033</td>\n",
       "      <td>-0.038195</td>\n",
       "      <td>0.803487</td>\n",
       "      <td>0.408542</td>\n",
       "      <td>-0.009431</td>\n",
       "      <td>0.798278</td>\n",
       "      <td>-0.137458</td>\n",
       "      <td>0.141267</td>\n",
       "      <td>-0.206010</td>\n",
       "      <td>0.502292</td>\n",
       "      <td>0.219422</td>\n",
       "      <td>0.215153</td>\n",
       "      <td>69.99</td>\n",
       "      <td>0</td>\n",
       "    </tr>\n",
       "    <tr>\n",
       "      <th>5</th>\n",
       "      <td>2.0</td>\n",
       "      <td>-0.425966</td>\n",
       "      <td>0.960523</td>\n",
       "      <td>1.141109</td>\n",
       "      <td>-0.168252</td>\n",
       "      <td>0.420987</td>\n",
       "      <td>-0.029728</td>\n",
       "      <td>0.476201</td>\n",
       "      <td>0.260314</td>\n",
       "      <td>-0.568671</td>\n",
       "      <td>-0.371407</td>\n",
       "      <td>1.341262</td>\n",
       "      <td>0.359894</td>\n",
       "      <td>-0.358091</td>\n",
       "      <td>-0.137134</td>\n",
       "      <td>0.517617</td>\n",
       "      <td>0.401726</td>\n",
       "      <td>-0.058133</td>\n",
       "      <td>0.068653</td>\n",
       "      <td>-0.033194</td>\n",
       "      <td>0.084968</td>\n",
       "      <td>-0.208254</td>\n",
       "      <td>-0.559825</td>\n",
       "      <td>-0.026398</td>\n",
       "      <td>-0.371427</td>\n",
       "      <td>-0.232794</td>\n",
       "      <td>0.105915</td>\n",
       "      <td>0.253844</td>\n",
       "      <td>0.081080</td>\n",
       "      <td>3.67</td>\n",
       "      <td>0</td>\n",
       "    </tr>\n",
       "    <tr>\n",
       "      <th>6</th>\n",
       "      <td>4.0</td>\n",
       "      <td>1.229658</td>\n",
       "      <td>0.141004</td>\n",
       "      <td>0.045371</td>\n",
       "      <td>1.202613</td>\n",
       "      <td>0.191881</td>\n",
       "      <td>0.272708</td>\n",
       "      <td>-0.005159</td>\n",
       "      <td>0.081213</td>\n",
       "      <td>0.464960</td>\n",
       "      <td>-0.099254</td>\n",
       "      <td>-1.416907</td>\n",
       "      <td>-0.153826</td>\n",
       "      <td>-0.751063</td>\n",
       "      <td>0.167372</td>\n",
       "      <td>0.050144</td>\n",
       "      <td>-0.443587</td>\n",
       "      <td>0.002821</td>\n",
       "      <td>-0.611987</td>\n",
       "      <td>-0.045575</td>\n",
       "      <td>-0.219633</td>\n",
       "      <td>-0.167716</td>\n",
       "      <td>-0.270710</td>\n",
       "      <td>-0.154104</td>\n",
       "      <td>-0.780055</td>\n",
       "      <td>0.750137</td>\n",
       "      <td>-0.257237</td>\n",
       "      <td>0.034507</td>\n",
       "      <td>0.005168</td>\n",
       "      <td>4.99</td>\n",
       "      <td>0</td>\n",
       "    </tr>\n",
       "    <tr>\n",
       "      <th>7</th>\n",
       "      <td>7.0</td>\n",
       "      <td>-0.644269</td>\n",
       "      <td>1.417964</td>\n",
       "      <td>1.074380</td>\n",
       "      <td>-0.492199</td>\n",
       "      <td>0.948934</td>\n",
       "      <td>0.428118</td>\n",
       "      <td>1.120631</td>\n",
       "      <td>-3.807864</td>\n",
       "      <td>0.615375</td>\n",
       "      <td>1.249376</td>\n",
       "      <td>-0.619468</td>\n",
       "      <td>0.291474</td>\n",
       "      <td>1.757964</td>\n",
       "      <td>-1.323865</td>\n",
       "      <td>0.686133</td>\n",
       "      <td>-0.076127</td>\n",
       "      <td>-1.222127</td>\n",
       "      <td>-0.358222</td>\n",
       "      <td>0.324505</td>\n",
       "      <td>-0.156742</td>\n",
       "      <td>1.943465</td>\n",
       "      <td>-1.015455</td>\n",
       "      <td>0.057504</td>\n",
       "      <td>-0.649709</td>\n",
       "      <td>-0.415267</td>\n",
       "      <td>-0.051634</td>\n",
       "      <td>-1.206921</td>\n",
       "      <td>-1.085339</td>\n",
       "      <td>40.80</td>\n",
       "      <td>0</td>\n",
       "    </tr>\n",
       "    <tr>\n",
       "      <th>8</th>\n",
       "      <td>7.0</td>\n",
       "      <td>-0.894286</td>\n",
       "      <td>0.286157</td>\n",
       "      <td>-0.113192</td>\n",
       "      <td>-0.271526</td>\n",
       "      <td>2.669599</td>\n",
       "      <td>3.721818</td>\n",
       "      <td>0.370145</td>\n",
       "      <td>0.851084</td>\n",
       "      <td>-0.392048</td>\n",
       "      <td>-0.410430</td>\n",
       "      <td>-0.705117</td>\n",
       "      <td>-0.110452</td>\n",
       "      <td>-0.286254</td>\n",
       "      <td>0.074355</td>\n",
       "      <td>-0.328783</td>\n",
       "      <td>-0.210077</td>\n",
       "      <td>-0.499768</td>\n",
       "      <td>0.118765</td>\n",
       "      <td>0.570328</td>\n",
       "      <td>0.052736</td>\n",
       "      <td>-0.073425</td>\n",
       "      <td>-0.268092</td>\n",
       "      <td>-0.204233</td>\n",
       "      <td>1.011592</td>\n",
       "      <td>0.373205</td>\n",
       "      <td>-0.384157</td>\n",
       "      <td>0.011747</td>\n",
       "      <td>0.142404</td>\n",
       "      <td>93.20</td>\n",
       "      <td>0</td>\n",
       "    </tr>\n",
       "    <tr>\n",
       "      <th>9</th>\n",
       "      <td>9.0</td>\n",
       "      <td>-0.338262</td>\n",
       "      <td>1.119593</td>\n",
       "      <td>1.044367</td>\n",
       "      <td>-0.222187</td>\n",
       "      <td>0.499361</td>\n",
       "      <td>-0.246761</td>\n",
       "      <td>0.651583</td>\n",
       "      <td>0.069539</td>\n",
       "      <td>-0.736727</td>\n",
       "      <td>-0.366846</td>\n",
       "      <td>1.017614</td>\n",
       "      <td>0.836390</td>\n",
       "      <td>1.006844</td>\n",
       "      <td>-0.443523</td>\n",
       "      <td>0.150219</td>\n",
       "      <td>0.739453</td>\n",
       "      <td>-0.540980</td>\n",
       "      <td>0.476677</td>\n",
       "      <td>0.451773</td>\n",
       "      <td>0.203711</td>\n",
       "      <td>-0.246914</td>\n",
       "      <td>-0.633753</td>\n",
       "      <td>-0.120794</td>\n",
       "      <td>-0.385050</td>\n",
       "      <td>-0.069733</td>\n",
       "      <td>0.094199</td>\n",
       "      <td>0.246219</td>\n",
       "      <td>0.083076</td>\n",
       "      <td>3.68</td>\n",
       "      <td>0</td>\n",
       "    </tr>\n",
       "  </tbody>\n",
       "</table>\n",
       "</div>"
      ],
      "text/plain": [
       "   Time        V1        V2        V3        V4        V5        V6        V7  \\\n",
       "0   0.0 -1.359807 -0.072781  2.536347  1.378155 -0.338321  0.462388  0.239599   \n",
       "1   0.0  1.191857  0.266151  0.166480  0.448154  0.060018 -0.082361 -0.078803   \n",
       "2   1.0 -1.358354 -1.340163  1.773209  0.379780 -0.503198  1.800499  0.791461   \n",
       "3   1.0 -0.966272 -0.185226  1.792993 -0.863291 -0.010309  1.247203  0.237609   \n",
       "4   2.0 -1.158233  0.877737  1.548718  0.403034 -0.407193  0.095921  0.592941   \n",
       "5   2.0 -0.425966  0.960523  1.141109 -0.168252  0.420987 -0.029728  0.476201   \n",
       "6   4.0  1.229658  0.141004  0.045371  1.202613  0.191881  0.272708 -0.005159   \n",
       "7   7.0 -0.644269  1.417964  1.074380 -0.492199  0.948934  0.428118  1.120631   \n",
       "8   7.0 -0.894286  0.286157 -0.113192 -0.271526  2.669599  3.721818  0.370145   \n",
       "9   9.0 -0.338262  1.119593  1.044367 -0.222187  0.499361 -0.246761  0.651583   \n",
       "\n",
       "         V8        V9       V10       V11       V12       V13       V14  \\\n",
       "0  0.098698  0.363787  0.090794 -0.551600 -0.617801 -0.991390 -0.311169   \n",
       "1  0.085102 -0.255425 -0.166974  1.612727  1.065235  0.489095 -0.143772   \n",
       "2  0.247676 -1.514654  0.207643  0.624501  0.066084  0.717293 -0.165946   \n",
       "3  0.377436 -1.387024 -0.054952 -0.226487  0.178228  0.507757 -0.287924   \n",
       "4 -0.270533  0.817739  0.753074 -0.822843  0.538196  1.345852 -1.119670   \n",
       "5  0.260314 -0.568671 -0.371407  1.341262  0.359894 -0.358091 -0.137134   \n",
       "6  0.081213  0.464960 -0.099254 -1.416907 -0.153826 -0.751063  0.167372   \n",
       "7 -3.807864  0.615375  1.249376 -0.619468  0.291474  1.757964 -1.323865   \n",
       "8  0.851084 -0.392048 -0.410430 -0.705117 -0.110452 -0.286254  0.074355   \n",
       "9  0.069539 -0.736727 -0.366846  1.017614  0.836390  1.006844 -0.443523   \n",
       "\n",
       "        V15       V16       V17       V18       V19       V20       V21  \\\n",
       "0  1.468177 -0.470401  0.207971  0.025791  0.403993  0.251412 -0.018307   \n",
       "1  0.635558  0.463917 -0.114805 -0.183361 -0.145783 -0.069083 -0.225775   \n",
       "2  2.345865 -2.890083  1.109969 -0.121359 -2.261857  0.524980  0.247998   \n",
       "3 -0.631418 -1.059647 -0.684093  1.965775 -1.232622 -0.208038 -0.108300   \n",
       "4  0.175121 -0.451449 -0.237033 -0.038195  0.803487  0.408542 -0.009431   \n",
       "5  0.517617  0.401726 -0.058133  0.068653 -0.033194  0.084968 -0.208254   \n",
       "6  0.050144 -0.443587  0.002821 -0.611987 -0.045575 -0.219633 -0.167716   \n",
       "7  0.686133 -0.076127 -1.222127 -0.358222  0.324505 -0.156742  1.943465   \n",
       "8 -0.328783 -0.210077 -0.499768  0.118765  0.570328  0.052736 -0.073425   \n",
       "9  0.150219  0.739453 -0.540980  0.476677  0.451773  0.203711 -0.246914   \n",
       "\n",
       "        V22       V23       V24       V25       V26       V27       V28  \\\n",
       "0  0.277838 -0.110474  0.066928  0.128539 -0.189115  0.133558 -0.021053   \n",
       "1 -0.638672  0.101288 -0.339846  0.167170  0.125895 -0.008983  0.014724   \n",
       "2  0.771679  0.909412 -0.689281 -0.327642 -0.139097 -0.055353 -0.059752   \n",
       "3  0.005274 -0.190321 -1.175575  0.647376 -0.221929  0.062723  0.061458   \n",
       "4  0.798278 -0.137458  0.141267 -0.206010  0.502292  0.219422  0.215153   \n",
       "5 -0.559825 -0.026398 -0.371427 -0.232794  0.105915  0.253844  0.081080   \n",
       "6 -0.270710 -0.154104 -0.780055  0.750137 -0.257237  0.034507  0.005168   \n",
       "7 -1.015455  0.057504 -0.649709 -0.415267 -0.051634 -1.206921 -1.085339   \n",
       "8 -0.268092 -0.204233  1.011592  0.373205 -0.384157  0.011747  0.142404   \n",
       "9 -0.633753 -0.120794 -0.385050 -0.069733  0.094199  0.246219  0.083076   \n",
       "\n",
       "   Amount  Class  \n",
       "0  149.62      0  \n",
       "1    2.69      0  \n",
       "2  378.66      0  \n",
       "3  123.50      0  \n",
       "4   69.99      0  \n",
       "5    3.67      0  \n",
       "6    4.99      0  \n",
       "7   40.80      0  \n",
       "8   93.20      0  \n",
       "9    3.68      0  "
      ]
     },
     "execution_count": 146,
     "metadata": {},
     "output_type": "execute_result"
    }
   ],
   "source": [
    "data.head(10)"
   ]
  },
  {
   "cell_type": "markdown",
   "id": "535dd33f-a523-4004-8d98-3c7bcce7763c",
   "metadata": {},
   "source": [
    "### Class: 1 for fraudulent transactions, 0 otherwise !"
   ]
  },
  {
   "cell_type": "code",
   "execution_count": 175,
   "id": "e8812bd7-65ad-4169-8b5a-ad6b5a89b353",
   "metadata": {
    "tags": []
   },
   "outputs": [],
   "source": [
    "df=data.copy()"
   ]
  },
  {
   "cell_type": "code",
   "execution_count": 148,
   "id": "57ba43dd-4eaa-4b15-aa09-ae9bb9b8f902",
   "metadata": {
    "tags": []
   },
   "outputs": [
    {
     "name": "stdout",
     "output_type": "stream",
     "text": [
      "<class 'pandas.core.frame.DataFrame'>\n",
      "RangeIndex: 284807 entries, 0 to 284806\n",
      "Data columns (total 31 columns):\n",
      " #   Column  Non-Null Count   Dtype  \n",
      "---  ------  --------------   -----  \n",
      " 0   Time    284807 non-null  float64\n",
      " 1   V1      284807 non-null  float64\n",
      " 2   V2      284807 non-null  float64\n",
      " 3   V3      284807 non-null  float64\n",
      " 4   V4      284807 non-null  float64\n",
      " 5   V5      284807 non-null  float64\n",
      " 6   V6      284807 non-null  float64\n",
      " 7   V7      284807 non-null  float64\n",
      " 8   V8      284807 non-null  float64\n",
      " 9   V9      284807 non-null  float64\n",
      " 10  V10     284807 non-null  float64\n",
      " 11  V11     284807 non-null  float64\n",
      " 12  V12     284807 non-null  float64\n",
      " 13  V13     284807 non-null  float64\n",
      " 14  V14     284807 non-null  float64\n",
      " 15  V15     284807 non-null  float64\n",
      " 16  V16     284807 non-null  float64\n",
      " 17  V17     284807 non-null  float64\n",
      " 18  V18     284807 non-null  float64\n",
      " 19  V19     284807 non-null  float64\n",
      " 20  V20     284807 non-null  float64\n",
      " 21  V21     284807 non-null  float64\n",
      " 22  V22     284807 non-null  float64\n",
      " 23  V23     284807 non-null  float64\n",
      " 24  V24     284807 non-null  float64\n",
      " 25  V25     284807 non-null  float64\n",
      " 26  V26     284807 non-null  float64\n",
      " 27  V27     284807 non-null  float64\n",
      " 28  V28     284807 non-null  float64\n",
      " 29  Amount  284807 non-null  float64\n",
      " 30  Class   284807 non-null  int64  \n",
      "dtypes: float64(30), int64(1)\n",
      "memory usage: 67.4 MB\n"
     ]
    }
   ],
   "source": [
    "df.info()"
   ]
  },
  {
   "cell_type": "code",
   "execution_count": 149,
   "id": "0b223ebf-bd4c-459a-92cd-aa8f942cde8f",
   "metadata": {
    "tags": []
   },
   "outputs": [
    {
     "data": {
      "text/plain": [
       "0"
      ]
     },
     "execution_count": 149,
     "metadata": {},
     "output_type": "execute_result"
    }
   ],
   "source": [
    "df.isna().sum().sum()"
   ]
  },
  {
   "cell_type": "code",
   "execution_count": 176,
   "id": "5c05817c-e08e-4472-a65e-a7d0bf6bfb4f",
   "metadata": {
    "tags": []
   },
   "outputs": [
    {
     "data": {
      "text/plain": [
       "1081"
      ]
     },
     "execution_count": 176,
     "metadata": {},
     "output_type": "execute_result"
    }
   ],
   "source": [
    "df.duplicated().sum()"
   ]
  },
  {
   "cell_type": "code",
   "execution_count": 177,
   "id": "5566b924-a5a8-4ed3-947f-34394e574840",
   "metadata": {
    "tags": []
   },
   "outputs": [],
   "source": [
    "df.drop_duplicates(inplace=True)"
   ]
  },
  {
   "cell_type": "code",
   "execution_count": 152,
   "id": "1f656e19-cd36-4545-9309-f2ee06bc81bd",
   "metadata": {
    "tags": []
   },
   "outputs": [
    {
     "data": {
      "text/plain": [
       "((284807, 31), (283726, 31))"
      ]
     },
     "execution_count": 152,
     "metadata": {},
     "output_type": "execute_result"
    }
   ],
   "source": [
    "data.shape, df.shape"
   ]
  },
  {
   "cell_type": "code",
   "execution_count": 153,
   "id": "e5006c3b-a5aa-470d-a59b-915471e03c32",
   "metadata": {
    "tags": []
   },
   "outputs": [
    {
     "data": {
      "text/plain": [
       "Class     283253\n",
       "Amount      1808\n",
       "Time           2\n",
       "V3             0\n",
       "V4             0\n",
       "V2             0\n",
       "V28            0\n",
       "V27            0\n",
       "V26            0\n",
       "V25            0\n",
       "V24            0\n",
       "V23            0\n",
       "           ...  \n",
       "V1             0\n",
       "V14            0\n",
       "V13            0\n",
       "V12            0\n",
       "V11            0\n",
       "V10            0\n",
       "V9             0\n",
       "V8             0\n",
       "V7             0\n",
       "V6             0\n",
       "V5             0\n",
       "V15            0\n",
       "Length: 31, dtype: int64"
      ]
     },
     "execution_count": 153,
     "metadata": {},
     "output_type": "execute_result"
    }
   ],
   "source": [
    "(df==0).sum().sort_values(ascending=False)"
   ]
  },
  {
   "cell_type": "code",
   "execution_count": 119,
   "id": "758b86a8-7467-4f9f-a9b0-1a71685fb27c",
   "metadata": {
    "tags": []
   },
   "outputs": [
    {
     "data": {
      "text/plain": [
       "0    283253\n",
       "1       473\n",
       "Name: Class, dtype: int64"
      ]
     },
     "execution_count": 119,
     "metadata": {},
     "output_type": "execute_result"
    }
   ],
   "source": [
    "df.Class.value_counts()"
   ]
  },
  {
   "cell_type": "code",
   "execution_count": 120,
   "id": "8eb01514-af1b-46e1-891a-b185a917439e",
   "metadata": {
    "tags": []
   },
   "outputs": [
    {
     "data": {
      "text/plain": [
       "0    0.998333\n",
       "1    0.001667\n",
       "Name: Class, dtype: float64"
      ]
     },
     "execution_count": 120,
     "metadata": {},
     "output_type": "execute_result"
    }
   ],
   "source": [
    "df.Class.value_counts(normalize=True)"
   ]
  },
  {
   "cell_type": "code",
   "execution_count": 121,
   "id": "cabd1fce-3608-4780-a749-dd467190f9f4",
   "metadata": {
    "tags": []
   },
   "outputs": [
    {
     "data": {
      "text/plain": [
       "count    283253.000000\n",
       "mean         88.413575\n",
       "std         250.379023\n",
       "min           0.000000\n",
       "25%           5.670000\n",
       "50%          22.000000\n",
       "75%          77.460000\n",
       "max       25691.160000\n",
       "Name: Amount, dtype: float64"
      ]
     },
     "execution_count": 121,
     "metadata": {},
     "output_type": "execute_result"
    }
   ],
   "source": [
    "df[df[\"Class\"]==0][\"Amount\"].describe().T"
   ]
  },
  {
   "cell_type": "code",
   "execution_count": 122,
   "id": "dfa4a077-b7f8-4bc7-912e-b41ba935f70e",
   "metadata": {
    "tags": []
   },
   "outputs": [
    {
     "data": {
      "text/plain": [
       "count     473.000000\n",
       "mean      123.871860\n",
       "std       260.211041\n",
       "min         0.000000\n",
       "25%         1.000000\n",
       "50%         9.820000\n",
       "75%       105.890000\n",
       "max      2125.870000\n",
       "Name: Amount, dtype: float64"
      ]
     },
     "execution_count": 122,
     "metadata": {},
     "output_type": "execute_result"
    }
   ],
   "source": [
    "df[df[\"Class\"]==1][\"Amount\"].describe().T"
   ]
  },
  {
   "cell_type": "code",
   "execution_count": 18,
   "id": "73b16510-3a10-4ba1-9b38-f82126292d13",
   "metadata": {
    "tags": []
   },
   "outputs": [],
   "source": [
    "import scipy.stats\n",
    "import scipy.stats as stats\n",
    "from scipy.stats import norm\n",
    "import statsmodels.api as sm\n",
    "from scipy.stats import skew, norm"
   ]
  },
  {
   "cell_type": "code",
   "execution_count": 191,
   "id": "d4bcc913-3867-4815-98b8-43ddea6e44dd",
   "metadata": {
    "tags": []
   },
   "outputs": [
    {
     "data": {
      "text/plain": [
       "array([-0.03558046, -3.27325394, -4.69513708, -2.15197258,  0.67150062,\n",
       "       -2.41406648,  1.82987071,  2.89025591, -8.31092639,  0.53766021,\n",
       "        1.25296045,  0.34407237, -2.19899666,  0.06429306, -1.91879357,\n",
       "       -0.30965745, -1.05115591, -3.69047768, -0.24866014,  0.10831124,\n",
       "       -2.04311025,  2.8200182 , -0.18232876, -5.86718977, -0.55212632,\n",
       "       -0.41574166,  0.58028925, -0.75379993, 11.55505399, 16.97871361,\n",
       "       24.43041591])"
      ]
     },
     "execution_count": 191,
     "metadata": {},
     "output_type": "execute_result"
    }
   ],
   "source": [
    "scipy.stats.skew(df.select_dtypes(np.number))"
   ]
  },
  {
   "cell_type": "code",
   "execution_count": 192,
   "id": "267435ed-ec73-419a-a357-fb86fb7b3940",
   "metadata": {
    "tags": []
   },
   "outputs": [],
   "source": [
    "skewed_features=pd.DataFrame({\"Features\":df.columns, \"values\":scipy.stats.skew(df.select_dtypes(np.number))})"
   ]
  },
  {
   "cell_type": "code",
   "execution_count": 193,
   "id": "47675179-ec9d-4f64-9df9-1a87085927fc",
   "metadata": {
    "tags": []
   },
   "outputs": [],
   "source": [
    "skewed_features[\"transform\"]=skewed_features[\"values\"].apply(lambda x: True if abs(x)>0.5 else False)"
   ]
  },
  {
   "cell_type": "code",
   "execution_count": 194,
   "id": "927df947-5a2a-4a52-8e12-2e5f459820d8",
   "metadata": {
    "tags": []
   },
   "outputs": [],
   "source": [
    "skewed_names=skewed_features[skewed_features[\"transform\"]==True][\"Features\"].values"
   ]
  },
  {
   "cell_type": "code",
   "execution_count": 81,
   "id": "860ee9e4-f34d-43a4-99f6-5f3b7e64834c",
   "metadata": {
    "tags": []
   },
   "outputs": [],
   "source": [
    "def draw_histograms(df, features, rows, cols):\n",
    "    fig=plt.figure(figsize=(20,20))\n",
    "    for i, feature in enumerate(features):\n",
    "        ax=fig.add_subplot(rows,cols,i+1)\n",
    "        df[feature].hist(bins=20,ax=ax, facecolor='midnightblue')\n",
    "        ax.set_title(feature+\" Distribution\",color='DarkRed')\n",
    "        ax.set_yscale('log')\n",
    "    fig.tight_layout()  \n",
    "    plt.show()"
   ]
  },
  {
   "cell_type": "code",
   "execution_count": 82,
   "id": "0bcaa0b8-bd3f-491f-98b9-f31a400e6c67",
   "metadata": {
    "tags": []
   },
   "outputs": [
    {
     "data": {
      "image/png": "[encoded data removed]",
      "text/plain": [
       "<Figure size 2000x2000 with 23 Axes>"
      ]
     },
     "metadata": {},
     "output_type": "display_data"
    }
   ],
   "source": [
    "draw_histograms(df,skewed_names,6,4)"
   ]
  },
  {
   "cell_type": "code",
   "execution_count": 195,
   "id": "79178df2-d20a-4b98-b481-7c798a3235d6",
   "metadata": {
    "tags": []
   },
   "outputs": [],
   "source": [
    "for i in skewed_names:\n",
    "    if i==\"Class\":\n",
    "        break\n",
    "    df[i]=np.log1p(df[i])"
   ]
  },
  {
   "cell_type": "code",
   "execution_count": 84,
   "id": "23b5fea3-47c0-4e91-98dc-6c22b8e7344f",
   "metadata": {
    "tags": []
   },
   "outputs": [
    {
     "data": {
      "image/png": "[encoded data removed]",
      "text/plain": [
       "<Figure size 2000x2000 with 23 Axes>"
      ]
     },
     "metadata": {},
     "output_type": "display_data"
    }
   ],
   "source": [
    "draw_histograms(df,skewed_names,6,4)"
   ]
  },
  {
   "cell_type": "markdown",
   "id": "0eb5c44b-03b1-46be-8449-22dc809110df",
   "metadata": {},
   "source": [
    "# Train Test Split"
   ]
  },
  {
   "cell_type": "code",
   "execution_count": 196,
   "id": "f88768ed-3012-41e4-8491-46a1670392b3",
   "metadata": {
    "tags": []
   },
   "outputs": [],
   "source": [
    "X=df.drop(\"Class\",1)\n",
    "y=df[\"Class\"]"
   ]
  },
  {
   "cell_type": "code",
   "execution_count": 197,
   "id": "9e59894e-c143-4972-b900-bd001c4cfc71",
   "metadata": {
    "tags": []
   },
   "outputs": [],
   "source": [
    "X_train, X_test, y_train, y_test=train_test_split(X,y,test_size=0.2, stratify=y)"
   ]
  },
  {
   "cell_type": "code",
   "execution_count": 198,
   "id": "129808c5-5d14-49ad-96a5-429f01056d58",
   "metadata": {
    "tags": []
   },
   "outputs": [],
   "source": [
    "rb=RobustScaler()\n",
    "X_train_rb=rb.fit_transform(X_train)\n",
    "X_test_rb=rb.transform(X_test)"
   ]
  },
  {
   "cell_type": "code",
   "execution_count": 199,
   "id": "8fc8b9ca-7ea4-41b3-9469-827339417865",
   "metadata": {
    "tags": []
   },
   "outputs": [],
   "source": [
    "X_train=pd.DataFrame(X_train_rb, index=X_train.index, columns=X_train.columns)\n",
    "X_test=pd.DataFrame(X_test_rb, index=X_test.index, columns=X_test.columns)"
   ]
  },
  {
   "cell_type": "markdown",
   "id": "cd6c6180-d717-4b7b-95b2-5d5ab3bcd298",
   "metadata": {},
   "source": [
    "# Base models"
   ]
  },
  {
   "cell_type": "code",
   "execution_count": 180,
   "id": "8a002246-8bd5-4371-a92d-95c292f6bb13",
   "metadata": {
    "tags": []
   },
   "outputs": [],
   "source": [
    "models={\n",
    "    \"Logistic Regression\": LogisticRegression(),\n",
    "    \"KNN\": KNeighborsClassifier(),\n",
    "    \"Random Forest\": RandomForestClassifier(),\n",
    "    \"XGBoost\": XGBClassifier(),\n",
    "    \"LightGBM\": LGBMClassifier(),\n",
    "    \"Decision Tree\": DecisionTreeClassifier(),\n",
    "    \"Cat Boost\": CatBoostClassifier(silent=True),\n",
    "    \"Gradient\": GradientBoostingClassifier()\n",
    "}"
   ]
  },
  {
   "cell_type": "code",
   "execution_count": 182,
   "id": "563d1144-28d3-4eef-ad5b-e51895fc36ad",
   "metadata": {
    "tags": []
   },
   "outputs": [
    {
     "name": "stdout",
     "output_type": "stream",
     "text": [
      "---------------------------------------------------\n",
      "Logistic Regression-train score: 0.9992\n",
      "Logistic Regression-test score: 0.9993\n",
      "precision score: 0.89\n",
      "recall score: 0.68\n",
      "f1 score: 0.77\n",
      "---------------------------------------------------\n",
      "KNN-train score: 0.9996\n",
      "KNN-test score: 0.9995\n",
      "precision score: 0.95\n",
      "recall score: 0.77\n",
      "f1 score: 0.85\n",
      "---------------------------------------------------\n",
      "Random Forest-train score: 1.0\n",
      "Random Forest-test score: 0.9996\n",
      "precision score: 0.94\n",
      "recall score: 0.8\n",
      "f1 score: 0.86\n",
      "---------------------------------------------------\n",
      "XGBoost-train score: 1.0\n",
      "XGBoost-test score: 0.9996\n",
      "precision score: 0.94\n",
      "recall score: 0.8\n",
      "f1 score: 0.86\n",
      "---------------------------------------------------\n",
      "LightGBM-train score: 0.9972\n",
      "LightGBM-test score: 0.9962\n",
      "precision score: 0.24\n",
      "recall score: 0.57\n",
      "f1 score: 0.33\n",
      "---------------------------------------------------\n",
      "Decision Tree-train score: 1.0\n",
      "Decision Tree-test score: 0.9992\n",
      "precision score: 0.75\n",
      "recall score: 0.74\n",
      "f1 score: 0.74\n",
      "---------------------------------------------------\n",
      "Cat Boost-train score: 1.0\n",
      "Cat Boost-test score: 0.9996\n",
      "precision score: 0.94\n",
      "recall score: 0.79\n",
      "f1 score: 0.86\n",
      "---------------------------------------------------\n",
      "Gradient-train score: 0.9987\n",
      "Gradient-test score: 0.9987\n",
      "precision score: 0.77\n",
      "recall score: 0.36\n",
      "f1 score: 0.49\n"
     ]
    }
   ],
   "source": [
    "#for name, model in models.items():\n",
    "#    model.fit(X_train, y_train)\n",
    "#    print(\"---------------------------------------------------\")\n",
    "#    print(name+\"-\"+f\"train score: {round(model.score(X_train,y_train),4)}\")\n",
    "#    print(name+\"-\"+f\"test score: {round(model.score(X_test,y_test),4)}\")\n",
    "#    y_pred=model.predict(X_test)\n",
    "#    print(f\"precision score: {round(precision_score(y_test, y_pred),2)}\")\n",
    "#    print(f\"recall score: {round(recall_score(y_test, y_pred),2)}\")\n",
    "#    print(f\"f1 score: {round(f1_score(y_test, y_pred),2)}\")"
   ]
  },
  {
   "cell_type": "markdown",
   "id": "cbc0b3b2-bc24-4d09-b541-392fe139efae",
   "metadata": {},
   "source": [
    "# Random oversampling"
   ]
  },
  {
   "cell_type": "code",
   "execution_count": 248,
   "id": "d8d4fc05-ca2a-4146-b93e-b3eaf0283c13",
   "metadata": {
    "tags": []
   },
   "outputs": [],
   "source": [
    "concat_data=pd.concat([X_train,y_train], axis=1)"
   ]
  },
  {
   "cell_type": "code",
   "execution_count": 251,
   "id": "141f3396-d6e5-4bf3-8eb5-fa0a830baef0",
   "metadata": {
    "tags": []
   },
   "outputs": [],
   "source": [
    "normal=concat_data[concat_data[\"Class\"]==0]\n",
    "fraud=concat_data[concat_data[\"Class\"]==1]"
   ]
  },
  {
   "cell_type": "code",
   "execution_count": 252,
   "id": "d56ef906-68d3-4bae-b3d5-472b3dc22282",
   "metadata": {
    "tags": []
   },
   "outputs": [
    {
     "data": {
      "text/plain": [
       "(378, 226602)"
      ]
     },
     "execution_count": 252,
     "metadata": {},
     "output_type": "execute_result"
    }
   ],
   "source": [
    "len(fraud), len(normal)"
   ]
  },
  {
   "cell_type": "code",
   "execution_count": 253,
   "id": "5fdab390-2ca8-4c3b-9ff5-b4855ee2cef3",
   "metadata": {
    "tags": []
   },
   "outputs": [],
   "source": [
    "sample=normal.sample(len(fraud))\n",
    "sample_x2=normal.sample(len(fraud)*2)"
   ]
  },
  {
   "cell_type": "code",
   "execution_count": 254,
   "id": "01ed6c3d-2fde-4b21-bd17-7aef710d09ab",
   "metadata": {
    "tags": []
   },
   "outputs": [
    {
     "data": {
      "text/plain": [
       "(378, 378, 756)"
      ]
     },
     "execution_count": 254,
     "metadata": {},
     "output_type": "execute_result"
    }
   ],
   "source": [
    "len(fraud), len(sample), len(sample_x2)"
   ]
  },
  {
   "cell_type": "markdown",
   "id": "672d2e11-c16c-4461-9eb6-e8bff1a093d4",
   "metadata": {},
   "source": [
    "## same amount of sample as fraud transactions"
   ]
  },
  {
   "cell_type": "code",
   "execution_count": 255,
   "id": "648bf0e0-2480-43b2-a48e-e903a3b96c6b",
   "metadata": {
    "tags": []
   },
   "outputs": [],
   "source": [
    "new_data=pd.concat([sample, fraud], axis=0, ignore_index=True)"
   ]
  },
  {
   "cell_type": "code",
   "execution_count": 257,
   "id": "99ee6000-fd96-40b6-acb4-a4482cc07887",
   "metadata": {
    "tags": []
   },
   "outputs": [],
   "source": [
    "new_data=new_data.sample(frac=1).reset_index(drop=True)"
   ]
  },
  {
   "cell_type": "code",
   "execution_count": 259,
   "id": "e0844516-4c3d-42dc-b7df-fa7124980b40",
   "metadata": {
    "tags": []
   },
   "outputs": [
    {
     "data": {
      "text/html": [
       "<div>\n",
       "<style scoped>\n",
       "    .dataframe tbody tr th:only-of-type {\n",
       "        vertical-align: middle;\n",
       "    }\n",
       "\n",
       "    .dataframe tbody tr th {\n",
       "        vertical-align: top;\n",
       "    }\n",
       "\n",
       "    .dataframe thead th {\n",
       "        text-align: right;\n",
       "    }\n",
       "</style>\n",
       "<table border=\"1\" class=\"dataframe\">\n",
       "  <thead>\n",
       "    <tr style=\"text-align: right;\">\n",
       "      <th></th>\n",
       "      <th>Time</th>\n",
       "      <th>V1</th>\n",
       "      <th>V2</th>\n",
       "      <th>V3</th>\n",
       "      <th>V4</th>\n",
       "      <th>V5</th>\n",
       "      <th>V6</th>\n",
       "      <th>V7</th>\n",
       "      <th>V8</th>\n",
       "      <th>V9</th>\n",
       "      <th>V10</th>\n",
       "      <th>V11</th>\n",
       "      <th>V12</th>\n",
       "      <th>V13</th>\n",
       "      <th>V14</th>\n",
       "      <th>V15</th>\n",
       "      <th>V16</th>\n",
       "      <th>V17</th>\n",
       "      <th>V18</th>\n",
       "      <th>V19</th>\n",
       "      <th>V20</th>\n",
       "      <th>V21</th>\n",
       "      <th>V22</th>\n",
       "      <th>V23</th>\n",
       "      <th>V24</th>\n",
       "      <th>V25</th>\n",
       "      <th>V26</th>\n",
       "      <th>V27</th>\n",
       "      <th>V28</th>\n",
       "      <th>Amount</th>\n",
       "      <th>Class</th>\n",
       "    </tr>\n",
       "  </thead>\n",
       "  <tbody>\n",
       "    <tr>\n",
       "      <th>0</th>\n",
       "      <td>0.570348</td>\n",
       "      <td>-0.552805</td>\n",
       "      <td>-1.817761</td>\n",
       "      <td>-3.429352</td>\n",
       "      <td>2.323584</td>\n",
       "      <td>-0.621676</td>\n",
       "      <td>-1.354936</td>\n",
       "      <td>0.869933</td>\n",
       "      <td>-1.061715</td>\n",
       "      <td>-1.330093</td>\n",
       "      <td>-3.682411</td>\n",
       "      <td>1.181183</td>\n",
       "      <td>-2.912861</td>\n",
       "      <td>0.594101</td>\n",
       "      <td>-5.287455</td>\n",
       "      <td>-0.048189</td>\n",
       "      <td>-2.783073</td>\n",
       "      <td>-3.509127</td>\n",
       "      <td>-1.066175</td>\n",
       "      <td>-0.616535</td>\n",
       "      <td>8.613808</td>\n",
       "      <td>3.448764</td>\n",
       "      <td>0.080066</td>\n",
       "      <td>-4.786029</td>\n",
       "      <td>-0.309736</td>\n",
       "      <td>0.773610</td>\n",
       "      <td>-0.425160</td>\n",
       "      <td>1.306036</td>\n",
       "      <td>3.204788</td>\n",
       "      <td>18.172382</td>\n",
       "      <td>1</td>\n",
       "    </tr>\n",
       "    <tr>\n",
       "      <th>1</th>\n",
       "      <td>-0.299052</td>\n",
       "      <td>0.519739</td>\n",
       "      <td>-0.352840</td>\n",
       "      <td>0.461055</td>\n",
       "      <td>0.279383</td>\n",
       "      <td>-0.766616</td>\n",
       "      <td>0.248657</td>\n",
       "      <td>-0.695726</td>\n",
       "      <td>0.009240</td>\n",
       "      <td>-0.621577</td>\n",
       "      <td>0.760042</td>\n",
       "      <td>-0.104328</td>\n",
       "      <td>0.563824</td>\n",
       "      <td>1.338124</td>\n",
       "      <td>-0.418505</td>\n",
       "      <td>1.036384</td>\n",
       "      <td>-1.373187</td>\n",
       "      <td>-0.142113</td>\n",
       "      <td>0.928260</td>\n",
       "      <td>-1.875028</td>\n",
       "      <td>-0.958031</td>\n",
       "      <td>-0.598456</td>\n",
       "      <td>-0.278771</td>\n",
       "      <td>0.318190</td>\n",
       "      <td>0.021879</td>\n",
       "      <td>0.244130</td>\n",
       "      <td>-0.658733</td>\n",
       "      <td>0.606137</td>\n",
       "      <td>0.296038</td>\n",
       "      <td>0.336182</td>\n",
       "      <td>0</td>\n",
       "    </tr>\n",
       "    <tr>\n",
       "      <th>2</th>\n",
       "      <td>0.066480</td>\n",
       "      <td>-0.313581</td>\n",
       "      <td>0.662031</td>\n",
       "      <td>-0.031308</td>\n",
       "      <td>-0.193221</td>\n",
       "      <td>0.344971</td>\n",
       "      <td>-0.750113</td>\n",
       "      <td>0.659812</td>\n",
       "      <td>-0.397538</td>\n",
       "      <td>1.117553</td>\n",
       "      <td>-0.483047</td>\n",
       "      <td>0.052079</td>\n",
       "      <td>-2.234670</td>\n",
       "      <td>1.528390</td>\n",
       "      <td>1.592510</td>\n",
       "      <td>-0.964583</td>\n",
       "      <td>-0.165419</td>\n",
       "      <td>0.467740</td>\n",
       "      <td>-0.513491</td>\n",
       "      <td>-0.283314</td>\n",
       "      <td>-0.567410</td>\n",
       "      <td>-0.970842</td>\n",
       "      <td>-0.647594</td>\n",
       "      <td>1.127873</td>\n",
       "      <td>-0.071810</td>\n",
       "      <td>-0.719866</td>\n",
       "      <td>0.200697</td>\n",
       "      <td>-1.615963</td>\n",
       "      <td>-1.981069</td>\n",
       "      <td>-0.059652</td>\n",
       "      <td>0</td>\n",
       "    </tr>\n",
       "    <tr>\n",
       "      <th>3</th>\n",
       "      <td>-0.393359</td>\n",
       "      <td>0.508707</td>\n",
       "      <td>0.146379</td>\n",
       "      <td>0.197489</td>\n",
       "      <td>0.932603</td>\n",
       "      <td>-0.160711</td>\n",
       "      <td>-0.072406</td>\n",
       "      <td>0.045661</td>\n",
       "      <td>-0.147646</td>\n",
       "      <td>0.211736</td>\n",
       "      <td>-0.040786</td>\n",
       "      <td>-0.097145</td>\n",
       "      <td>0.689735</td>\n",
       "      <td>0.164970</td>\n",
       "      <td>-0.048692</td>\n",
       "      <td>-0.170254</td>\n",
       "      <td>-0.911399</td>\n",
       "      <td>0.480757</td>\n",
       "      <td>-1.132505</td>\n",
       "      <td>-0.541613</td>\n",
       "      <td>-0.372839</td>\n",
       "      <td>-0.122839</td>\n",
       "      <td>0.031028</td>\n",
       "      <td>-0.029217</td>\n",
       "      <td>0.491572</td>\n",
       "      <td>0.928117</td>\n",
       "      <td>-0.495098</td>\n",
       "      <td>0.265478</td>\n",
       "      <td>0.058666</td>\n",
       "      <td>-0.290647</td>\n",
       "      <td>0</td>\n",
       "    </tr>\n",
       "    <tr>\n",
       "      <th>4</th>\n",
       "      <td>0.564512</td>\n",
       "      <td>0.184370</td>\n",
       "      <td>1.282575</td>\n",
       "      <td>-2.341253</td>\n",
       "      <td>1.554512</td>\n",
       "      <td>3.556441</td>\n",
       "      <td>-2.318544</td>\n",
       "      <td>-2.522284</td>\n",
       "      <td>-5.132980</td>\n",
       "      <td>-0.180482</td>\n",
       "      <td>-2.243584</td>\n",
       "      <td>1.504566</td>\n",
       "      <td>-0.533597</td>\n",
       "      <td>-1.248952</td>\n",
       "      <td>-6.455831</td>\n",
       "      <td>-0.386062</td>\n",
       "      <td>1.627643</td>\n",
       "      <td>6.343485</td>\n",
       "      <td>3.212208</td>\n",
       "      <td>-0.616916</td>\n",
       "      <td>1.104793</td>\n",
       "      <td>-3.275823</td>\n",
       "      <td>-0.332071</td>\n",
       "      <td>-12.817666</td>\n",
       "      <td>-1.096352</td>\n",
       "      <td>-3.644159</td>\n",
       "      <td>-1.259673</td>\n",
       "      <td>2.383536</td>\n",
       "      <td>2.352281</td>\n",
       "      <td>-0.290647</td>\n",
       "      <td>1</td>\n",
       "    </tr>\n",
       "  </tbody>\n",
       "</table>\n",
       "</div>"
      ],
      "text/plain": [
       "       Time        V1        V2        V3        V4        V5        V6  \\\n",
       "0  0.570348 -0.552805 -1.817761 -3.429352  2.323584 -0.621676 -1.354936   \n",
       "1 -0.299052  0.519739 -0.352840  0.461055  0.279383 -0.766616  0.248657   \n",
       "2  0.066480 -0.313581  0.662031 -0.031308 -0.193221  0.344971 -0.750113   \n",
       "3 -0.393359  0.508707  0.146379  0.197489  0.932603 -0.160711 -0.072406   \n",
       "4  0.564512  0.184370  1.282575 -2.341253  1.554512  3.556441 -2.318544   \n",
       "\n",
       "         V7        V8        V9       V10       V11       V12       V13  \\\n",
       "0  0.869933 -1.061715 -1.330093 -3.682411  1.181183 -2.912861  0.594101   \n",
       "1 -0.695726  0.009240 -0.621577  0.760042 -0.104328  0.563824  1.338124   \n",
       "2  0.659812 -0.397538  1.117553 -0.483047  0.052079 -2.234670  1.528390   \n",
       "3  0.045661 -0.147646  0.211736 -0.040786 -0.097145  0.689735  0.164970   \n",
       "4 -2.522284 -5.132980 -0.180482 -2.243584  1.504566 -0.533597 -1.248952   \n",
       "\n",
       "        V14       V15       V16       V17       V18       V19       V20  \\\n",
       "0 -5.287455 -0.048189 -2.783073 -3.509127 -1.066175 -0.616535  8.613808   \n",
       "1 -0.418505  1.036384 -1.373187 -0.142113  0.928260 -1.875028 -0.958031   \n",
       "2  1.592510 -0.964583 -0.165419  0.467740 -0.513491 -0.283314 -0.567410   \n",
       "3 -0.048692 -0.170254 -0.911399  0.480757 -1.132505 -0.541613 -0.372839   \n",
       "4 -6.455831 -0.386062  1.627643  6.343485  3.212208 -0.616916  1.104793   \n",
       "\n",
       "        V21       V22        V23       V24       V25       V26       V27  \\\n",
       "0  3.448764  0.080066  -4.786029 -0.309736  0.773610 -0.425160  1.306036   \n",
       "1 -0.598456 -0.278771   0.318190  0.021879  0.244130 -0.658733  0.606137   \n",
       "2 -0.970842 -0.647594   1.127873 -0.071810 -0.719866  0.200697 -1.615963   \n",
       "3 -0.122839  0.031028  -0.029217  0.491572  0.928117 -0.495098  0.265478   \n",
       "4 -3.275823 -0.332071 -12.817666 -1.096352 -3.644159 -1.259673  2.383536   \n",
       "\n",
       "        V28     Amount  Class  \n",
       "0  3.204788  18.172382      1  \n",
       "1  0.296038   0.336182      0  \n",
       "2 -1.981069  -0.059652      0  \n",
       "3  0.058666  -0.290647      0  \n",
       "4  2.352281  -0.290647      1  "
      ]
     },
     "execution_count": 259,
     "metadata": {},
     "output_type": "execute_result"
    }
   ],
   "source": [
    "new_data.head()"
   ]
  },
  {
   "cell_type": "code",
   "execution_count": 260,
   "id": "f47b4ca1-056b-42a8-80d7-c174243236df",
   "metadata": {
    "tags": []
   },
   "outputs": [],
   "source": [
    "X_train=new_data.drop(\"Class\",1)\n",
    "y_train=new_data[\"Class\"]"
   ]
  },
  {
   "cell_type": "code",
   "execution_count": 265,
   "id": "4297f7b9-d3c4-4a2a-937c-d74e8a4fe65d",
   "metadata": {
    "tags": []
   },
   "outputs": [],
   "source": [
    "models={\n",
    "    \"Logistic Regression\": LogisticRegression(),\n",
    "    \"Random Forest\": RandomForestClassifier(),\n",
    "    \"XGBoost\": XGBClassifier(),\n",
    "    \"Cat Boost\": CatBoostClassifier(silent=True),\n",
    "    \"KNN\": KNeighborsClassifier(),\n",
    "    \"Decision Tree\": DecisionTreeClassifier(),\n",
    "}"
   ]
  },
  {
   "cell_type": "code",
   "execution_count": 266,
   "id": "3721ec4d-aad4-4373-91e9-8ac5f5890db7",
   "metadata": {
    "tags": []
   },
   "outputs": [
    {
     "name": "stdout",
     "output_type": "stream",
     "text": [
      "---------------------------------------------------\n",
      "Logistic Regression-train score: 0.9431\n",
      "Logistic Regression-test score: 0.961\n",
      "precision score: 0.04\n",
      "recall score: 0.97\n",
      "f1 score: 0.08\n",
      "---------------------------------------------------\n",
      "Random Forest-train score: 1.0\n",
      "Random Forest-test score: 0.9608\n",
      "precision score: 0.04\n",
      "recall score: 0.96\n",
      "f1 score: 0.08\n",
      "---------------------------------------------------\n",
      "XGBoost-train score: 1.0\n",
      "XGBoost-test score: 0.9621\n",
      "precision score: 0.04\n",
      "recall score: 0.96\n",
      "f1 score: 0.08\n",
      "---------------------------------------------------\n",
      "Cat Boost-train score: 1.0\n",
      "Cat Boost-test score: 0.977\n",
      "precision score: 0.06\n",
      "recall score: 0.95\n",
      "f1 score: 0.12\n",
      "---------------------------------------------------\n",
      "KNN-train score: 0.9392\n",
      "KNN-test score: 0.9565\n",
      "precision score: 0.03\n",
      "recall score: 0.91\n",
      "f1 score: 0.07\n",
      "---------------------------------------------------\n",
      "Decision Tree-train score: 1.0\n",
      "Decision Tree-test score: 0.8942\n",
      "precision score: 0.01\n",
      "recall score: 0.94\n",
      "f1 score: 0.03\n"
     ]
    }
   ],
   "source": [
    "for name, model in models.items():\n",
    "    model.fit(X_train, y_train)\n",
    "    print(\"---------------------------------------------------\")\n",
    "    print(name+\"-\"+f\"train score: {round(model.score(X_train,y_train),4)}\")\n",
    "    print(name+\"-\"+f\"test score: {round(model.score(X_test,y_test),4)}\")\n",
    "    y_pred=model.predict(X_test)\n",
    "    print(f\"precision score: {round(precision_score(y_test, y_pred),2)}\")\n",
    "    print(f\"recall score: {round(recall_score(y_test, y_pred),2)}\")\n",
    "    print(f\"f1 score: {round(f1_score(y_test, y_pred),2)}\")"
   ]
  },
  {
   "cell_type": "markdown",
   "id": "b4df6010-5b6c-4bc4-94e2-7d2941a89feb",
   "metadata": {},
   "source": [
    "## the threshold might be tune to increase precision score"
   ]
  },
  {
   "cell_type": "code",
   "execution_count": 330,
   "id": "cfb25109-b869-4013-81bc-cde087ad9d3e",
   "metadata": {
    "tags": []
   },
   "outputs": [
    {
     "name": "stdout",
     "output_type": "stream",
     "text": [
      "---------------------------------------------------\n",
      "Logistic Regression-train score: 0.9431\n",
      "Logistic Regression-test score: 0.961\n",
      "precision score: 0.1166\n",
      "recall score: 0.9263\n",
      "f1 score: 0.2071\n",
      "---------------------------------------------------\n",
      "Random Forest-train score: 1.0\n",
      "Random Forest-test score: 0.964\n",
      "precision score: 0.8039\n",
      "recall score: 0.8632\n",
      "f1 score: 0.8325\n",
      "---------------------------------------------------\n",
      "XGBoost-train score: 1.0\n",
      "XGBoost-test score: 0.9621\n",
      "precision score: 0.1276\n",
      "recall score: 0.9158\n",
      "f1 score: 0.2239\n",
      "---------------------------------------------------\n",
      "Cat Boost-train score: 1.0\n",
      "Cat Boost-test score: 0.977\n",
      "precision score: 0.2905\n",
      "recall score: 0.9053\n",
      "f1 score: 0.4399\n",
      "---------------------------------------------------\n",
      "KNN-train score: 0.9392\n",
      "KNN-test score: 0.9565\n",
      "precision score: 0.1598\n",
      "recall score: 0.8947\n",
      "f1 score: 0.2711\n",
      "---------------------------------------------------\n",
      "Decision Tree-train score: 1.0\n",
      "Decision Tree-test score: 0.9005\n",
      "precision score: 0.0154\n",
      "recall score: 0.9263\n",
      "f1 score: 0.0302\n"
     ]
    }
   ],
   "source": [
    "for name, model in models.items():\n",
    "    model.fit(X_train, y_train)\n",
    "    print(\"---------------------------------------------------\")\n",
    "    print(name+\"-\"+f\"train score: {round(model.score(X_train,y_train),4)}\")\n",
    "    print(name+\"-\"+f\"test score: {round(model.score(X_test,y_test),4)}\")\n",
    "    y_pred=(model.predict_proba(X_test)[:,1]>=0.9).astype(float)\n",
    "    print(f\"precision score: {round(precision_score(y_test, y_pred),4)}\")\n",
    "    print(f\"recall score: {round(recall_score(y_test, y_pred),4)}\")\n",
    "    print(f\"f1 score: {round(f1_score(y_test, y_pred),4)}\")"
   ]
  },
  {
   "cell_type": "markdown",
   "id": "6794c6c1-d605-41eb-92ff-66cd3ab03d73",
   "metadata": {},
   "source": [
    "## sample_x2"
   ]
  },
  {
   "cell_type": "markdown",
   "id": "f0157246-8cf3-4f8f-9748-6c15b2f1ed9e",
   "metadata": {
    "tags": []
   },
   "source": [
    "## double amount of sample as fraud transactions"
   ]
  },
  {
   "cell_type": "code",
   "execution_count": 331,
   "id": "a7fb520c-15e0-4f2a-a156-68c0db7a5625",
   "metadata": {
    "tags": []
   },
   "outputs": [],
   "source": [
    "new_data2=pd.concat([sample_x2, fraud], axis=0, ignore_index=True)\n",
    "new_data2=new_data2.sample(frac=1).reset_index(drop=True)"
   ]
  },
  {
   "cell_type": "code",
   "execution_count": 332,
   "id": "f9766ef6-bc98-4895-9091-97f943271e53",
   "metadata": {
    "tags": []
   },
   "outputs": [
    {
     "data": {
      "text/plain": [
       "1134"
      ]
     },
     "execution_count": 332,
     "metadata": {},
     "output_type": "execute_result"
    }
   ],
   "source": [
    "len(new_data2)"
   ]
  },
  {
   "cell_type": "code",
   "execution_count": 333,
   "id": "1e735ab1-3b1c-4854-a1d8-51d82c7cbb62",
   "metadata": {
    "tags": []
   },
   "outputs": [],
   "source": [
    "X_train=new_data2.drop(\"Class\",1)\n",
    "y_train=new_data2[\"Class\"]"
   ]
  },
  {
   "cell_type": "code",
   "execution_count": 334,
   "id": "f93f90e0-2041-46df-a2b5-ea49724eacde",
   "metadata": {
    "tags": []
   },
   "outputs": [],
   "source": [
    "models={\n",
    "    \"Logistic Regression\": LogisticRegression(),\n",
    "    \"Random Forest\": RandomForestClassifier(),\n",
    "    \"XGBoost\": XGBClassifier(),\n",
    "    \"Cat Boost\": CatBoostClassifier(silent=True),\n",
    "    \"KNN\": KNeighborsClassifier(),\n",
    "    \"Decision Tree\": DecisionTreeClassifier(),\n",
    "}"
   ]
  },
  {
   "cell_type": "code",
   "execution_count": 335,
   "id": "0cf3e3ab-3ebc-44ba-8290-0d32096f8e4b",
   "metadata": {
    "tags": []
   },
   "outputs": [
    {
     "name": "stdout",
     "output_type": "stream",
     "text": [
      "---------------------------------------------------\n",
      "Logistic Regression-train score: 0.9577\n",
      "Logistic Regression-test score: 0.9803\n",
      "precision score: 0.07\n",
      "recall score: 0.95\n",
      "f1 score: 0.14\n",
      "---------------------------------------------------\n",
      "Random Forest-train score: 1.0\n",
      "Random Forest-test score: 0.9905\n",
      "precision score: 0.14\n",
      "recall score: 0.94\n",
      "f1 score: 0.25\n",
      "---------------------------------------------------\n",
      "XGBoost-train score: 1.0\n",
      "XGBoost-test score: 0.98\n",
      "precision score: 0.07\n",
      "recall score: 0.93\n",
      "f1 score: 0.13\n",
      "---------------------------------------------------\n",
      "Cat Boost-train score: 1.0\n",
      "Cat Boost-test score: 0.9884\n",
      "precision score: 0.12\n",
      "recall score: 0.94\n",
      "f1 score: 0.21\n",
      "---------------------------------------------------\n",
      "KNN-train score: 0.9559\n",
      "KNN-test score: 0.9781\n",
      "precision score: 0.07\n",
      "recall score: 0.91\n",
      "f1 score: 0.12\n",
      "---------------------------------------------------\n",
      "Decision Tree-train score: 1.0\n",
      "Decision Tree-test score: 0.9409\n",
      "precision score: 0.03\n",
      "recall score: 0.93\n",
      "f1 score: 0.05\n"
     ]
    }
   ],
   "source": [
    "for name, model in models.items():\n",
    "    model.fit(X_train, y_train)\n",
    "    print(\"---------------------------------------------------\")\n",
    "    print(name+\"-\"+f\"train score: {round(model.score(X_train,y_train),4)}\")\n",
    "    print(name+\"-\"+f\"test score: {round(model.score(X_test,y_test),4)}\")\n",
    "    y_pred=model.predict(X_test)\n",
    "    print(f\"precision score: {round(precision_score(y_test, y_pred),2)}\")\n",
    "    print(f\"recall score: {round(recall_score(y_test, y_pred),2)}\")\n",
    "    print(f\"f1 score: {round(f1_score(y_test, y_pred),2)}\")"
   ]
  },
  {
   "cell_type": "code",
   "execution_count": 336,
   "id": "95f34640-b1df-49b2-828a-91c743933074",
   "metadata": {
    "tags": []
   },
   "outputs": [
    {
     "name": "stdout",
     "output_type": "stream",
     "text": [
      "---------------------------------------------------\n",
      "Logistic Regression-train score: 0.9577\n",
      "Logistic Regression-test score: 0.9803\n",
      "precision score: 0.227\n",
      "recall score: 0.8842\n",
      "f1 score: 0.3613\n",
      "---------------------------------------------------\n",
      "Random Forest-train score: 1.0\n",
      "Random Forest-test score: 0.9902\n",
      "precision score: 0.8791\n",
      "recall score: 0.8421\n",
      "f1 score: 0.8602\n",
      "---------------------------------------------------\n",
      "XGBoost-train score: 1.0\n",
      "XGBoost-test score: 0.98\n",
      "precision score: 0.2567\n",
      "recall score: 0.9053\n",
      "f1 score: 0.4\n",
      "---------------------------------------------------\n",
      "Cat Boost-train score: 1.0\n",
      "Cat Boost-test score: 0.9884\n",
      "precision score: 0.6131\n",
      "recall score: 0.8842\n",
      "f1 score: 0.7241\n",
      "---------------------------------------------------\n",
      "KNN-train score: 0.9559\n",
      "KNN-test score: 0.9781\n",
      "precision score: 0.4663\n",
      "recall score: 0.8737\n",
      "f1 score: 0.6081\n",
      "---------------------------------------------------\n",
      "Decision Tree-train score: 1.0\n",
      "Decision Tree-test score: 0.9423\n",
      "precision score: 0.0262\n",
      "recall score: 0.9263\n",
      "f1 score: 0.051\n"
     ]
    }
   ],
   "source": [
    "for name, model in models.items():\n",
    "    model.fit(X_train, y_train)\n",
    "    print(\"---------------------------------------------------\")\n",
    "    print(name+\"-\"+f\"train score: {round(model.score(X_train,y_train),4)}\")\n",
    "    print(name+\"-\"+f\"test score: {round(model.score(X_test,y_test),4)}\")\n",
    "    y_pred=(model.predict_proba(X_test)[:,1]>=0.9).astype(float)\n",
    "    print(f\"precision score: {round(precision_score(y_test, y_pred),4)}\")\n",
    "    print(f\"recall score: {round(recall_score(y_test, y_pred),4)}\")\n",
    "    print(f\"f1 score: {round(f1_score(y_test, y_pred),4)}\")"
   ]
  },
  {
   "cell_type": "markdown",
   "id": "2f562686-a3ef-42bd-b48d-3b854e80cb94",
   "metadata": {},
   "source": [
    "#### As an evaluation, the following may be said:\n",
    "#### - the recall scores are pretty high for the random sampling methods, so \"true positive\" rate is high. \n",
    "#### - Nevertheless precision scores are so low. It means \"False Positive\" rate is high too. \n",
    "#### - If false positive rate is not too important for fraud detection, this models might be useful\n",
    "#### - If higher precision scores is wished, tuning the threshold may be consider\n",
    "#### - precision can be increased by waiving little bit recall score with threshold tuning"
   ]
  },
  {
   "cell_type": "markdown",
   "id": "b855bc7c-c2f9-4e31-a7a8-72790545e2da",
   "metadata": {},
   "source": [
    "# Other Undersampling Methods\n",
    "* Tomek Links\n",
    "* Edited Nearest Neighbours\n",
    "* Neighbourhood Cleaning Rule\n",
    "* Near Miss"
   ]
  },
  {
   "cell_type": "markdown",
   "id": "3fe2ea49-3646-408e-8c90-887504492873",
   "metadata": {},
   "source": [
    "# Modeling with Tomek links"
   ]
  },
  {
   "cell_type": "code",
   "execution_count": 31,
   "id": "f00dd09a-5009-4b55-8c6f-0b1ef01496ea",
   "metadata": {
    "tags": []
   },
   "outputs": [],
   "source": [
    "from imblearn.under_sampling import TomekLinks\n",
    "from imblearn.under_sampling import EditedNearestNeighbours\n",
    "from imblearn.under_sampling import NeighbourhoodCleaningRule\n",
    "from imblearn.under_sampling import NearMiss"
   ]
  },
  {
   "cell_type": "code",
   "execution_count": 48,
   "id": "e0112bed-02d0-467d-870d-2310657a676d",
   "metadata": {
    "tags": []
   },
   "outputs": [],
   "source": [
    "tl = TomekLinks(\n",
    "    sampling_strategy='auto',  # remove only majority class\n",
    "    n_jobs=-1)  \n",
    "\n",
    "X_resampled, y_resampled = tl.fit_resample(X_train, y_train)"
   ]
  },
  {
   "cell_type": "code",
   "execution_count": 49,
   "id": "3c96df68-ce86-41d1-8f8e-3f7c177a94e8",
   "metadata": {
    "tags": []
   },
   "outputs": [
    {
     "data": {
      "text/plain": [
       "((227845, 30), (227845,))"
      ]
     },
     "execution_count": 49,
     "metadata": {},
     "output_type": "execute_result"
    }
   ],
   "source": [
    "X_train.shape, y_train.shape"
   ]
  },
  {
   "cell_type": "code",
   "execution_count": 50,
   "id": "a258ba22-d4d3-4b99-b180-434c68c9db97",
   "metadata": {
    "tags": []
   },
   "outputs": [
    {
     "data": {
      "text/plain": [
       "((227825, 30), (227825,))"
      ]
     },
     "execution_count": 50,
     "metadata": {},
     "output_type": "execute_result"
    }
   ],
   "source": [
    "X_resampled.shape, y_resampled.shape"
   ]
  },
  {
   "cell_type": "code",
   "execution_count": 51,
   "id": "4a786787-e4d4-48e9-807c-584a7847242c",
   "metadata": {
    "tags": []
   },
   "outputs": [],
   "source": [
    "models={\n",
    "    \"Logistic Regression\": LogisticRegression(),\n",
    "    \"KNN\": KNeighborsClassifier(),\n",
    "    \"Random Forest\": RandomForestClassifier(),\n",
    "    \"XGBoost\": XGBClassifier(),\n",
    "    \"LightGBM\": LGBMClassifier(),\n",
    "    \"Decision Tree\": DecisionTreeClassifier(),\n",
    "    \"Cat Boost\": CatBoostClassifier(silent=True),\n",
    "    \"Gradient\": GradientBoostingClassifier()\n",
    "}"
   ]
  },
  {
   "cell_type": "code",
   "execution_count": 15,
   "id": "2f64760e-9f98-4221-8924-44ec0ac09b22",
   "metadata": {
    "tags": []
   },
   "outputs": [
    {
     "name": "stdout",
     "output_type": "stream",
     "text": [
      "---------------------------------------------------\n",
      "Logistic Regression-train score: 0.9992\n",
      "Logistic Regression-test score: 0.9992\n",
      "precision score: 0.8553\n",
      "recall score: 0.6633\n",
      "f1 score: 0.7471\n",
      "---------------------------------------------------\n",
      "KNN-train score: 0.9996\n",
      "KNN-test score: 0.9996\n",
      "precision score: 0.963\n",
      "recall score: 0.7959\n",
      "f1 score: 0.8715\n",
      "---------------------------------------------------\n",
      "Random Forest-train score: 1.0\n",
      "Random Forest-test score: 0.9996\n",
      "precision score: 0.9524\n",
      "recall score: 0.8163\n",
      "f1 score: 0.8791\n",
      "---------------------------------------------------\n",
      "XGBoost-train score: 1.0\n",
      "XGBoost-test score: 0.9997\n",
      "precision score: 0.9759\n",
      "recall score: 0.8265\n",
      "f1 score: 0.895\n",
      "---------------------------------------------------\n",
      "LightGBM-train score: 0.9971\n",
      "LightGBM-test score: 0.9963\n",
      "precision score: 0.2422\n",
      "recall score: 0.551\n",
      "f1 score: 0.3364\n",
      "---------------------------------------------------\n",
      "Decision Tree-train score: 1.0\n",
      "Decision Tree-test score: 0.9992\n",
      "precision score: 0.767\n",
      "recall score: 0.8061\n",
      "f1 score: 0.7861\n",
      "---------------------------------------------------\n",
      "Cat Boost-train score: 1.0\n",
      "Cat Boost-test score: 0.9996\n",
      "precision score: 0.9524\n",
      "recall score: 0.8163\n",
      "f1 score: 0.8791\n",
      "---------------------------------------------------\n",
      "Gradient-train score: 0.9996\n",
      "Gradient-test score: 0.9994\n",
      "precision score: 0.837\n",
      "recall score: 0.7857\n",
      "f1 score: 0.8105\n"
     ]
    }
   ],
   "source": [
    "for name, model in models.items():\n",
    "    model.fit(X_resampled, y_resampled)\n",
    "    print(\"---------------------------------------------------\")\n",
    "    print(name+\"-\"+f\"train score: {round(model.score(X_resampled, y_resampled),4)}\")\n",
    "    print(name+\"-\"+f\"test score: {round(model.score(X_test,y_test),4)}\")\n",
    "    y_pred=model.predict(X_test)\n",
    "    print(f\"precision score: {round(precision_score(y_test, y_pred),4)}\")\n",
    "    print(f\"recall score: {round(recall_score(y_test, y_pred),4)}\")\n",
    "    print(f\"f1 score: {round(f1_score(y_test, y_pred),4)}\")"
   ]
  },
  {
   "cell_type": "markdown",
   "id": "66175c11-3e45-4f93-ab28-d80345654a02",
   "metadata": {},
   "source": [
    "# Edited Nearest Neighbours"
   ]
  },
  {
   "cell_type": "code",
   "execution_count": 17,
   "id": "747a7905-420a-4a59-81a0-021d8f2657e5",
   "metadata": {
    "tags": []
   },
   "outputs": [],
   "source": [
    "enn = EditedNearestNeighbours(\n",
    "    sampling_strategy='auto',  # resamples the majority class\n",
    "    n_neighbors=3, # the number of neighbours to examine to remove an observation\n",
    "    kind_sel='all',  # all neighbours need to agree\n",
    "    n_jobs=-1)  # I have 4 cores in my laptop\n",
    "\n",
    "X_enn, y_enn = enn.fit_resample(X_train, y_train)"
   ]
  },
  {
   "cell_type": "code",
   "execution_count": 18,
   "id": "fef8bea1-8195-43cd-8ae9-b33a3541fb57",
   "metadata": {
    "tags": []
   },
   "outputs": [
    {
     "data": {
      "text/plain": [
       "((227845, 30), (227845,))"
      ]
     },
     "execution_count": 18,
     "metadata": {},
     "output_type": "execute_result"
    }
   ],
   "source": [
    "X_train.shape, y_train.shape"
   ]
  },
  {
   "cell_type": "code",
   "execution_count": 19,
   "id": "8fb2d02b-48fe-4c8b-a54d-7cc573a74685",
   "metadata": {
    "tags": []
   },
   "outputs": [
    {
     "data": {
      "text/plain": [
       "((227685, 30), (227685,))"
      ]
     },
     "execution_count": 19,
     "metadata": {},
     "output_type": "execute_result"
    }
   ],
   "source": [
    "X_enn.shape, y_enn.shape"
   ]
  },
  {
   "cell_type": "code",
   "execution_count": 21,
   "id": "25abbe8e-8a0e-4316-af2e-ae3df90f8a38",
   "metadata": {
    "tags": []
   },
   "outputs": [],
   "source": [
    "models={\n",
    "    \n",
    "    \"KNN\": KNeighborsClassifier(),\n",
    "    \"Random Forest\": RandomForestClassifier(),\n",
    "    \"XGBoost\": XGBClassifier(),\n",
    "    \n",
    "}"
   ]
  },
  {
   "cell_type": "code",
   "execution_count": 30,
   "id": "767bb20d-3d9d-4dd8-a599-28704e4066c5",
   "metadata": {
    "tags": []
   },
   "outputs": [
    {
     "name": "stdout",
     "output_type": "stream",
     "text": [
      "---------------------------------------------------\n",
      "KNN-train score: 0.9996\n",
      "KNN-test score: 0.9996\n",
      "precision score: 0.9512\n",
      "recall score: 0.7959\n",
      "f1 score: 0.8667\n",
      "---------------------------------------------------\n",
      "Random Forest-train score: 1.0\n",
      "Random Forest-test score: 0.9996\n",
      "precision score: 0.9195\n",
      "recall score: 0.8163\n",
      "f1 score: 0.8649\n",
      "---------------------------------------------------\n",
      "XGBoost-train score: 1.0\n",
      "XGBoost-test score: 0.9997\n",
      "precision score: 0.9438\n",
      "recall score: 0.8571\n",
      "f1 score: 0.8984\n"
     ]
    }
   ],
   "source": [
    "for name, model in models.items():\n",
    "    model.fit(X_enn, y_enn)\n",
    "    print(\"---------------------------------------------------\")\n",
    "    print(name+\"-\"+f\"train score: {round(model.score(X_enn, y_enn),4)}\")\n",
    "    print(name+\"-\"+f\"test score: {round(model.score(X_test,y_test),4)}\")\n",
    "    y_pred=model.predict(X_test)\n",
    "    print(f\"precision score: {round(precision_score(y_test, y_pred),4)}\")\n",
    "    print(f\"recall score: {round(recall_score(y_test, y_pred),4)}\")\n",
    "    print(f\"f1 score: {round(f1_score(y_test, y_pred),4)}\")"
   ]
  },
  {
   "cell_type": "markdown",
   "id": "63187256-6e6d-4d7f-9aec-f96e689a73f2",
   "metadata": {
    "tags": []
   },
   "source": [
    "# Neighbourhood Cleaning Rule"
   ]
  },
  {
   "cell_type": "code",
   "execution_count": 25,
   "id": "c1fc5ad6-de40-43f0-bf56-676417addf96",
   "metadata": {
    "tags": []
   },
   "outputs": [],
   "source": [
    "ncr = NeighbourhoodCleaningRule(\n",
    "    sampling_strategy='auto',# undersamples from all classes except minority\n",
    "    n_neighbors=3, # explores 3 neighbours per observation\n",
    "    kind_sel='mode', # all / most neighbouring need to disagree, only applies to cleaning step\n",
    "    n_jobs=-1, # 4 processors in my laptop\n",
    "    threshold_cleaning=0.1, # the threshold to evaluate a class for cleaning (used only for clearning step)\n",
    ") \n",
    "\n",
    "X_ncr, y_ncr = ncr.fit_resample(X_train, y_train)"
   ]
  },
  {
   "cell_type": "code",
   "execution_count": 26,
   "id": "eb6b4353-7b17-44e7-98ca-b746a84b0d06",
   "metadata": {
    "tags": []
   },
   "outputs": [
    {
     "data": {
      "text/plain": [
       "((227845, 30), (227845,))"
      ]
     },
     "execution_count": 26,
     "metadata": {},
     "output_type": "execute_result"
    }
   ],
   "source": [
    "X_train.shape, y_train.shape"
   ]
  },
  {
   "cell_type": "code",
   "execution_count": 27,
   "id": "7d81fbad-27f7-42c4-a8c9-f626fdb50213",
   "metadata": {
    "tags": []
   },
   "outputs": [
    {
     "data": {
      "text/plain": [
       "((227581, 30), (227581,))"
      ]
     },
     "execution_count": 27,
     "metadata": {},
     "output_type": "execute_result"
    }
   ],
   "source": [
    "X_ncr.shape, y_ncr.shape"
   ]
  },
  {
   "cell_type": "code",
   "execution_count": 28,
   "id": "54521fd0-613b-4b2a-bcc2-8cb0c5c9768e",
   "metadata": {
    "tags": []
   },
   "outputs": [],
   "source": [
    "models={\n",
    "    \n",
    "    \"KNN\": KNeighborsClassifier(),\n",
    "    \"Random Forest\": RandomForestClassifier(),\n",
    "    \"XGBoost\": XGBClassifier(),\n",
    "    \n",
    "}"
   ]
  },
  {
   "cell_type": "code",
   "execution_count": 29,
   "id": "10222c8d-8558-421c-80f6-e677c7b4b2df",
   "metadata": {
    "tags": []
   },
   "outputs": [
    {
     "name": "stdout",
     "output_type": "stream",
     "text": [
      "---------------------------------------------------\n",
      "KNN-train score: 0.9996\n",
      "KNN-test score: 0.9996\n",
      "precision score: 0.9634\n",
      "recall score: 0.8061\n",
      "f1 score: 0.8778\n",
      "---------------------------------------------------\n",
      "Random Forest-train score: 1.0\n",
      "Random Forest-test score: 0.9995\n",
      "precision score: 0.8913\n",
      "recall score: 0.8367\n",
      "f1 score: 0.8632\n",
      "---------------------------------------------------\n",
      "XGBoost-train score: 1.0\n",
      "XGBoost-test score: 0.9996\n",
      "precision score: 0.9432\n",
      "recall score: 0.8469\n",
      "f1 score: 0.8925\n"
     ]
    }
   ],
   "source": [
    "for name, model in models.items():\n",
    "    model.fit(X_ncr, y_ncr)\n",
    "    print(\"---------------------------------------------------\")\n",
    "    print(name+\"-\"+f\"train score: {round(model.score(X_ncr, y_ncr),4)}\")\n",
    "    print(name+\"-\"+f\"test score: {round(model.score(X_test,y_test),4)}\")\n",
    "    y_pred=model.predict(X_test)\n",
    "    print(f\"precision score: {round(precision_score(y_test, y_pred),4)}\")\n",
    "    print(f\"recall score: {round(recall_score(y_test, y_pred),4)}\")\n",
    "    print(f\"f1 score: {round(f1_score(y_test, y_pred),4)}\")"
   ]
  },
  {
   "cell_type": "markdown",
   "id": "e9de7c2e-82d5-4d8d-8222-478db8162ab5",
   "metadata": {},
   "source": [
    "# NearMiss"
   ]
  },
  {
   "cell_type": "code",
   "execution_count": 32,
   "id": "05843258-aded-48cb-8733-136372de2eba",
   "metadata": {
    "tags": []
   },
   "outputs": [],
   "source": [
    "nm3 = NearMiss(\n",
    "    sampling_strategy='auto',  # undersamples only the majority class\n",
    "    version=3,\n",
    "    n_neighbors=3,\n",
    "    n_jobs=-1)  # I have 4 cores in my laptop\n",
    "\n",
    "X_nm3, y_nm3 = nm3.fit_resample(X_train, y_train)"
   ]
  },
  {
   "cell_type": "code",
   "execution_count": 33,
   "id": "9f1978f3-d7e4-4951-8253-446f3290e60c",
   "metadata": {
    "tags": []
   },
   "outputs": [
    {
     "data": {
      "text/plain": [
       "((227845, 30), (227845,))"
      ]
     },
     "execution_count": 33,
     "metadata": {},
     "output_type": "execute_result"
    }
   ],
   "source": [
    "X_train.shape, y_train.shape"
   ]
  },
  {
   "cell_type": "code",
   "execution_count": 34,
   "id": "1642d7b3-6d47-41ad-9969-28ac6c151f80",
   "metadata": {
    "tags": []
   },
   "outputs": [
    {
     "data": {
      "text/plain": [
       "((779, 30), (779,))"
      ]
     },
     "execution_count": 34,
     "metadata": {},
     "output_type": "execute_result"
    }
   ],
   "source": [
    "X_nm3.shape, y_nm3.shape"
   ]
  },
  {
   "cell_type": "code",
   "execution_count": 35,
   "id": "80094f6d-5875-4c80-8595-00006b0ca58f",
   "metadata": {
    "tags": []
   },
   "outputs": [],
   "source": [
    "models={\n",
    "    \n",
    "    \"KNN\": KNeighborsClassifier(),\n",
    "    \"Random Forest\": RandomForestClassifier(),\n",
    "    \"XGBoost\": XGBClassifier(),\n",
    "    \n",
    "}"
   ]
  },
  {
   "cell_type": "code",
   "execution_count": 36,
   "id": "a40d1573-32ba-4772-b8b9-0c54657a9bd3",
   "metadata": {
    "tags": []
   },
   "outputs": [
    {
     "name": "stdout",
     "output_type": "stream",
     "text": [
      "---------------------------------------------------\n",
      "KNN-train score: 0.8575\n",
      "KNN-test score: 0.9959\n",
      "precision score: 0.2746\n",
      "recall score: 0.8265\n",
      "f1 score: 0.4122\n",
      "---------------------------------------------------\n",
      "Random Forest-train score: 1.0\n",
      "Random Forest-test score: 0.9976\n",
      "precision score: 0.4029\n",
      "recall score: 0.8469\n",
      "f1 score: 0.5461\n",
      "---------------------------------------------------\n",
      "XGBoost-train score: 1.0\n",
      "XGBoost-test score: 0.9337\n",
      "precision score: 0.0216\n",
      "recall score: 0.8469\n",
      "f1 score: 0.0421\n"
     ]
    }
   ],
   "source": [
    "for name, model in models.items():\n",
    "    model.fit(X_nm3, y_nm3)\n",
    "    print(\"---------------------------------------------------\")\n",
    "    print(name+\"-\"+f\"train score: {round(model.score(X_nm3, y_nm3),4)}\")\n",
    "    print(name+\"-\"+f\"test score: {round(model.score(X_test,y_test),4)}\")\n",
    "    y_pred=model.predict(X_test)\n",
    "    print(f\"precision score: {round(precision_score(y_test, y_pred),4)}\")\n",
    "    print(f\"recall score: {round(recall_score(y_test, y_pred),4)}\")\n",
    "    print(f\"f1 score: {round(f1_score(y_test, y_pred),4)}\")"
   ]
  },
  {
   "cell_type": "code",
   "execution_count": 37,
   "id": "5e056c80-0c48-4a89-9e1a-3712dfe31464",
   "metadata": {
    "tags": []
   },
   "outputs": [],
   "source": [
    "nm1 = NearMiss(\n",
    "    sampling_strategy='auto',  # undersamples only the majority class\n",
    "    version=1,\n",
    "    n_neighbors=3,\n",
    "    n_jobs=-1)  # I have 4 cores in my laptop\n",
    "\n",
    "X_nm1, y_nm1 = nm1.fit_resample(X_train, y_train)"
   ]
  },
  {
   "cell_type": "code",
   "execution_count": 38,
   "id": "4af69229-ae59-4866-994a-2533deae363f",
   "metadata": {
    "tags": []
   },
   "outputs": [
    {
     "name": "stdout",
     "output_type": "stream",
     "text": [
      "---------------------------------------------------\n",
      "KNN-train score: 0.9619\n",
      "KNN-test score: 0.8125\n",
      "precision score: 0.0085\n",
      "recall score: 0.9388\n",
      "f1 score: 0.0169\n",
      "---------------------------------------------------\n",
      "Random Forest-train score: 1.0\n",
      "Random Forest-test score: 0.0947\n",
      "precision score: 0.0018\n",
      "recall score: 0.9694\n",
      "f1 score: 0.0037\n",
      "---------------------------------------------------\n",
      "XGBoost-train score: 1.0\n",
      "XGBoost-test score: 0.1851\n",
      "precision score: 0.0021\n",
      "recall score: 0.9796\n",
      "f1 score: 0.0041\n"
     ]
    }
   ],
   "source": [
    "for name, model in models.items():\n",
    "    model.fit(X_nm1, y_nm1)\n",
    "    print(\"---------------------------------------------------\")\n",
    "    print(name+\"-\"+f\"train score: {round(model.score(X_nm1, y_nm1),4)}\")\n",
    "    print(name+\"-\"+f\"test score: {round(model.score(X_test,y_test),4)}\")\n",
    "    y_pred=model.predict(X_test)\n",
    "    print(f\"precision score: {round(precision_score(y_test, y_pred),4)}\")\n",
    "    print(f\"recall score: {round(recall_score(y_test, y_pred),4)}\")\n",
    "    print(f\"f1 score: {round(f1_score(y_test, y_pred),4)}\")"
   ]
  },
  {
   "cell_type": "code",
   "execution_count": 39,
   "id": "a02e2a73-72a4-4efb-90d0-4affeca04131",
   "metadata": {
    "tags": []
   },
   "outputs": [],
   "source": [
    "nm2 = NearMiss(\n",
    "    sampling_strategy='auto',  # undersamples only the majority class\n",
    "    version=2,\n",
    "    n_neighbors=3,\n",
    "    n_jobs=-1)  # I have 4 cores in my laptop\n",
    "\n",
    "X_nm2, y_nm2 = nm2.fit_resample(X_train, y_train)"
   ]
  },
  {
   "cell_type": "code",
   "execution_count": 40,
   "id": "1180eca9-f522-4408-ac1c-8c1c7567a70e",
   "metadata": {
    "tags": []
   },
   "outputs": [
    {
     "name": "stdout",
     "output_type": "stream",
     "text": [
      "---------------------------------------------------\n",
      "KNN-train score: 0.9962\n",
      "KNN-test score: 0.0086\n",
      "precision score: 0.0017\n",
      "recall score: 0.9898\n",
      "f1 score: 0.0034\n",
      "---------------------------------------------------\n",
      "Random Forest-train score: 1.0\n",
      "Random Forest-test score: 0.0089\n",
      "precision score: 0.0017\n",
      "recall score: 1.0\n",
      "f1 score: 0.0035\n",
      "---------------------------------------------------\n",
      "XGBoost-train score: 1.0\n",
      "XGBoost-test score: 0.0066\n",
      "precision score: 0.0017\n",
      "recall score: 1.0\n",
      "f1 score: 0.0035\n"
     ]
    }
   ],
   "source": [
    "for name, model in models.items():\n",
    "    model.fit(X_nm2, y_nm2)\n",
    "    print(\"---------------------------------------------------\")\n",
    "    print(name+\"-\"+f\"train score: {round(model.score(X_nm2, y_nm2),4)}\")\n",
    "    print(name+\"-\"+f\"test score: {round(model.score(X_test,y_test),4)}\")\n",
    "    y_pred=model.predict(X_test)\n",
    "    print(f\"precision score: {round(precision_score(y_test, y_pred),4)}\")\n",
    "    print(f\"recall score: {round(recall_score(y_test, y_pred),4)}\")\n",
    "    print(f\"f1 score: {round(f1_score(y_test, y_pred),4)}\")"
   ]
  },
  {
   "cell_type": "markdown",
   "id": "5e40cabc-799b-4a26-b1fb-f8731a06f011",
   "metadata": {},
   "source": [
    "# Under sampling method comparison"
   ]
  },
  {
   "cell_type": "code",
   "execution_count": 79,
   "id": "154b45b6-a64b-4dd3-9ce3-52918e3a35e7",
   "metadata": {
    "tags": []
   },
   "outputs": [],
   "source": [
    "rf=RandomForestClassifier()\n",
    "rf.fit(X_resampled, y_resampled)\n",
    "y_pred=rf.predict_proba(X_test)[:,1]\n",
    "tomek_score=roc_auc_score(y_test, y_pred)"
   ]
  },
  {
   "cell_type": "code",
   "execution_count": 80,
   "id": "bfebe4fb-81db-4f58-8781-ff094280a482",
   "metadata": {
    "tags": []
   },
   "outputs": [],
   "source": [
    "rf=RandomForestClassifier()\n",
    "rf.fit(X_enn, y_enn)\n",
    "y_pred=rf.predict_proba(X_test)[:,1]\n",
    "Edited_Nearest_score=roc_auc_score(y_test, y_pred)"
   ]
  },
  {
   "cell_type": "code",
   "execution_count": 81,
   "id": "87d157d1-81b3-41e8-bc62-07c62de243a5",
   "metadata": {
    "tags": []
   },
   "outputs": [],
   "source": [
    "rf=RandomForestClassifier()\n",
    "rf.fit(X_ncr, y_ncr)\n",
    "y_pred=rf.predict_proba(X_test)[:,1]\n",
    "Neighbourhood_Cleaning_score=roc_auc_score(y_test, y_pred)"
   ]
  },
  {
   "cell_type": "code",
   "execution_count": 82,
   "id": "bbfa00b9-d350-4e70-8278-394f9e67ef72",
   "metadata": {
    "tags": []
   },
   "outputs": [],
   "source": [
    "rf=RandomForestClassifier()\n",
    "rf.fit(X_nm3, y_nm3)\n",
    "y_pred=rf.predict_proba(X_test)[:,1]\n",
    "NearMiss_score=roc_auc_score(y_test, y_pred)"
   ]
  },
  {
   "cell_type": "code",
   "execution_count": 127,
   "id": "5f2f631d-f65a-422c-9336-5277d637ea87",
   "metadata": {
    "tags": []
   },
   "outputs": [],
   "source": [
    "comparison_table=pd.DataFrame({\"roc score\":[tomek_score, Edited_Nearest_score, Neighbourhood_Cleaning_score, NearMiss_score]},\n",
    "            index=[\"Tomek Link\",\"Edited Nearest \",\"Neighbourhood Cleaning\",\"NearMiss\"])"
   ]
  },
  {
   "cell_type": "code",
   "execution_count": 129,
   "id": "f5e94fd3-9edf-4752-9fcc-46483f81cf2d",
   "metadata": {
    "tags": []
   },
   "outputs": [
    {
     "data": {
      "image/png": "[encoded data removed]",
      "text/plain": [
       "<Figure size 800x400 with 1 Axes>"
      ]
     },
     "metadata": {},
     "output_type": "display_data"
    }
   ],
   "source": [
    "plt.figure(figsize=(8,4))\n",
    "ax=sns.barplot(comparison_table, x=comparison_table.index, y=comparison_table[\"roc score\"], color=\"steelblue\")\n",
    "plt.axhline(comparison_table[\"roc score\"]['NearMiss'], color='r')\n",
    "plt.ylabel(\"roc score\")\n",
    "plt.title(\"undersampling methods with random forest\\n roc auc score comparison\")\n",
    "ax.bar_label(ax.containers[0])\n",
    "plt.show()"
   ]
  },
  {
   "cell_type": "markdown",
   "id": "d830e009-ff6f-45ab-ad58-fabc1807601a",
   "metadata": {},
   "source": [
    "# Feature Importance"
   ]
  },
  {
   "cell_type": "markdown",
   "id": "ef68fe1a-88ec-4c53-962d-23a959ec58d8",
   "metadata": {
    "tags": []
   },
   "source": [
    "### skewed features data was used on this random forest modeling"
   ]
  },
  {
   "cell_type": "code",
   "execution_count": 200,
   "id": "c5459cb9-16da-45b2-a28b-6f484151688e",
   "metadata": {
    "tags": []
   },
   "outputs": [],
   "source": [
    "# some features has null values because of log transformation\n",
    "\n",
    "for i in X_train.columns:\n",
    "    X_train[i]=X_train[i].fillna(X_train[i].mean())\n",
    "for i in X_test.columns:\n",
    "    X_test[i]=X_test[i].fillna(X_test[i].mean())"
   ]
  },
  {
   "cell_type": "code",
   "execution_count": 119,
   "id": "e87746bf-b3bc-416e-acf1-681fdf9357cf",
   "metadata": {
    "tags": []
   },
   "outputs": [],
   "source": [
    "from imblearn.under_sampling import RandomUnderSampler"
   ]
  },
  {
   "cell_type": "code",
   "execution_count": 201,
   "id": "d60b39e3-b2a2-4e00-968d-3fe89bf23474",
   "metadata": {
    "tags": []
   },
   "outputs": [],
   "source": [
    "random=RandomUnderSampler(sampling_strategy=0.5, replacement=False)\n",
    "X_rand, y_rand= random.fit_resample(X_train, y_train)"
   ]
  },
  {
   "cell_type": "code",
   "execution_count": 210,
   "id": "3655aa77-b141-4623-aa06-373912b8c962",
   "metadata": {
    "tags": []
   },
   "outputs": [
    {
     "data": {
      "text/plain": [
       "((226980, 30), (1134, 30), 378)"
      ]
     },
     "execution_count": 210,
     "metadata": {},
     "output_type": "execute_result"
    }
   ],
   "source": [
    "X_train.shape, X_rand.shape, y_train.value_counts()[1]"
   ]
  },
  {
   "cell_type": "code",
   "execution_count": 211,
   "id": "936c283a-9959-407c-99e3-d2f2747a3333",
   "metadata": {
    "tags": []
   },
   "outputs": [],
   "source": [
    "rf=RandomForestClassifier()\n",
    "rf.fit(X_rand, y_rand)\n",
    "y_pred=rf.predict(X_test)\n",
    "y_prob=rf.predict_proba(X_test)[:,1]"
   ]
  },
  {
   "cell_type": "code",
   "execution_count": 212,
   "id": "edc2576b-85af-4ee7-9f7f-c411fc363bd5",
   "metadata": {
    "tags": []
   },
   "outputs": [
    {
     "name": "stdout",
     "output_type": "stream",
     "text": [
      "              precision    recall  f1-score   support\n",
      "\n",
      "           0       1.00      0.99      1.00     56651\n",
      "           1       0.21      0.87      0.34        95\n",
      "\n",
      "    accuracy                           0.99     56746\n",
      "   macro avg       0.61      0.93      0.67     56746\n",
      "weighted avg       1.00      0.99      1.00     56746\n",
      "\n"
     ]
    }
   ],
   "source": [
    "print(classification_report(y_test, y_pred))"
   ]
  },
  {
   "cell_type": "code",
   "execution_count": 213,
   "id": "1462447c-baa5-4771-8038-d484e48ef62b",
   "metadata": {
    "tags": []
   },
   "outputs": [
    {
     "data": {
      "text/plain": [
       "array([[56341,   310],\n",
       "       [   12,    83]], dtype=int64)"
      ]
     },
     "execution_count": 213,
     "metadata": {},
     "output_type": "execute_result"
    }
   ],
   "source": [
    "confusion_matrix(y_test, y_pred)"
   ]
  },
  {
   "cell_type": "markdown",
   "id": "fe2fad20-0710-4da7-8222-175a881201bd",
   "metadata": {},
   "source": [
    "### tuning threshold to better precision and f1 score"
   ]
  },
  {
   "cell_type": "code",
   "execution_count": 214,
   "id": "7586b476-ee83-40c2-939d-28259b96add7",
   "metadata": {
    "tags": []
   },
   "outputs": [],
   "source": [
    "y_prob2=(rf.predict_proba(X_test)[:,1]>=0.9).astype(float)"
   ]
  },
  {
   "cell_type": "code",
   "execution_count": 215,
   "id": "2381de41-9338-4e89-9bf3-669ad8b80fe9",
   "metadata": {
    "tags": []
   },
   "outputs": [
    {
     "name": "stdout",
     "output_type": "stream",
     "text": [
      "              precision    recall  f1-score   support\n",
      "\n",
      "           0       1.00      1.00      1.00     56651\n",
      "           1       0.86      0.63      0.73        95\n",
      "\n",
      "    accuracy                           1.00     56746\n",
      "   macro avg       0.93      0.82      0.86     56746\n",
      "weighted avg       1.00      1.00      1.00     56746\n",
      "\n"
     ]
    }
   ],
   "source": [
    "print(classification_report(y_test, y_prob2))"
   ]
  },
  {
   "cell_type": "code",
   "execution_count": 216,
   "id": "8e51557e-689f-4cc3-b4e5-2b6daac7d64f",
   "metadata": {
    "tags": []
   },
   "outputs": [
    {
     "data": {
      "text/plain": [
       "array([[56641,    10],\n",
       "       [   35,    60]], dtype=int64)"
      ]
     },
     "execution_count": 216,
     "metadata": {},
     "output_type": "execute_result"
    }
   ],
   "source": [
    "confusion_matrix(y_test, y_prob2)"
   ]
  },
  {
   "cell_type": "code",
   "execution_count": 233,
   "id": "bc8e5d8a-19eb-4c27-b1ce-5b9d3e0c133d",
   "metadata": {
    "tags": []
   },
   "outputs": [
    {
     "name": "stdout",
     "output_type": "stream",
     "text": [
      "              precision    recall  f1-score   support\n",
      "\n",
      "           0       1.00      1.00      1.00     56651\n",
      "           1       0.85      0.82      0.83        95\n",
      "\n",
      "    accuracy                           1.00     56746\n",
      "   macro avg       0.92      0.91      0.92     56746\n",
      "weighted avg       1.00      1.00      1.00     56746\n",
      "\n"
     ]
    },
    {
     "data": {
      "text/plain": [
       "array([[56637,    14],\n",
       "       [   17,    78]], dtype=int64)"
      ]
     },
     "execution_count": 233,
     "metadata": {},
     "output_type": "execute_result"
    }
   ],
   "source": [
    "y_prob3=(rf.predict_proba(X_test)[:,1]>=0.8).astype(float)\n",
    "print(classification_report(y_test, y_prob3))\n",
    "confusion_matrix(y_test, y_prob3)"
   ]
  },
  {
   "cell_type": "markdown",
   "id": "928e5993-3073-476d-ba11-b9f3fa5f4438",
   "metadata": {},
   "source": [
    "### 0.8 as threshold might be better choice due to higher true positive rate and not to much negative effect to false positive rate"
   ]
  },
  {
   "cell_type": "code",
   "execution_count": 235,
   "id": "91d1eba9-07ae-4324-8661-4e0abaee661c",
   "metadata": {
    "tags": []
   },
   "outputs": [
    {
     "data": {
      "text/plain": [
       "array([0.00726295, 0.01035793, 0.06493665, 0.03217373, 0.20195915,\n",
       "       0.00757625, 0.01129092, 0.01385742, 0.01223496, 0.01135783,\n",
       "       0.04073464, 0.15761538, 0.04626389, 0.00724804, 0.05514334,\n",
       "       0.00905323, 0.01468141, 0.02742485, 0.08164625, 0.01597471,\n",
       "       0.01179579, 0.05202358, 0.00735843, 0.00708715, 0.00870436,\n",
       "       0.00540149, 0.00747782, 0.03256303, 0.02293445, 0.01586038])"
      ]
     },
     "execution_count": 235,
     "metadata": {},
     "output_type": "execute_result"
    }
   ],
   "source": [
    "rf.feature_importances_"
   ]
  },
  {
   "cell_type": "code",
   "execution_count": 236,
   "id": "68d5adf3-e227-4ad6-9fa6-4e6b4c6f107a",
   "metadata": {
    "tags": []
   },
   "outputs": [],
   "source": [
    "tablo=pd.DataFrame({\"coef\":rf.feature_importances_}, index=X.columns)"
   ]
  },
  {
   "cell_type": "code",
   "execution_count": 237,
   "id": "a5b5292b-0bde-4555-9841-59118dce7f75",
   "metadata": {
    "tags": []
   },
   "outputs": [
    {
     "data": {
      "image/png": "[encoded data removed]",
      "text/plain": [
       "<Figure size 2000x500 with 1 Axes>"
      ]
     },
     "metadata": {},
     "output_type": "display_data"
    }
   ],
   "source": [
    "plt.figure(figsize=(20,5))\n",
    "sns.barplot(tablo, x=tablo.index, y=\"coef\")\n",
    "plt.title(\"random forest - feature importance\", fontsize=15)\n",
    "plt.ylabel(\"coefficients\", fontsize=15)\n",
    "plt.xlabel(\"features\", fontsize=15)\n",
    "plt.show()"
   ]
  },
  {
   "cell_type": "code",
   "execution_count": 238,
   "id": "2c6efd03-ea91-48d3-962e-ced0836fd294",
   "metadata": {
    "tags": []
   },
   "outputs": [
    {
     "data": {
      "text/plain": [
       "(0.9341060547080045, 0.815701213988883, 0.9104027522160151)"
      ]
     },
     "execution_count": 238,
     "metadata": {},
     "output_type": "execute_result"
    }
   ],
   "source": [
    "roc_auc_score(y_test, y_pred), roc_auc_score(y_test, y_prob2), roc_auc_score(y_test, y_prob3)"
   ]
  },
  {
   "cell_type": "code",
   "execution_count": 239,
   "id": "f735df00-5d72-4556-a1ee-fb71b9992dc6",
   "metadata": {
    "tags": []
   },
   "outputs": [
    {
     "data": {
      "text/plain": [
       "(0.21119592875318066, 0.8571428571428571, 0.8478260869565217)"
      ]
     },
     "execution_count": 239,
     "metadata": {},
     "output_type": "execute_result"
    }
   ],
   "source": [
    "precision_score(y_test, y_pred), precision_score(y_test, y_prob2), precision_score(y_test, y_prob3)"
   ]
  },
  {
   "cell_type": "markdown",
   "id": "9d8f780e-d7e3-4929-9040-94c2275e878d",
   "metadata": {},
   "source": [
    "# Modeling with less number of features"
   ]
  },
  {
   "cell_type": "code",
   "execution_count": 240,
   "id": "578a7d34-05b3-4c08-a7dd-2c7fdd1233d5",
   "metadata": {
    "tags": []
   },
   "outputs": [
    {
     "data": {
      "text/html": [
       "<div>\n",
       "<style scoped>\n",
       "    .dataframe tbody tr th:only-of-type {\n",
       "        vertical-align: middle;\n",
       "    }\n",
       "\n",
       "    .dataframe tbody tr th {\n",
       "        vertical-align: top;\n",
       "    }\n",
       "\n",
       "    .dataframe thead th {\n",
       "        text-align: right;\n",
       "    }\n",
       "</style>\n",
       "<table border=\"1\" class=\"dataframe\">\n",
       "  <thead>\n",
       "    <tr style=\"text-align: right;\">\n",
       "      <th></th>\n",
       "      <th>coef</th>\n",
       "    </tr>\n",
       "  </thead>\n",
       "  <tbody>\n",
       "    <tr>\n",
       "      <th>Time</th>\n",
       "      <td>0.007263</td>\n",
       "    </tr>\n",
       "    <tr>\n",
       "      <th>V1</th>\n",
       "      <td>0.010358</td>\n",
       "    </tr>\n",
       "    <tr>\n",
       "      <th>V2</th>\n",
       "      <td>0.064937</td>\n",
       "    </tr>\n",
       "    <tr>\n",
       "      <th>V3</th>\n",
       "      <td>0.032174</td>\n",
       "    </tr>\n",
       "    <tr>\n",
       "      <th>V4</th>\n",
       "      <td>0.201959</td>\n",
       "    </tr>\n",
       "    <tr>\n",
       "      <th>V5</th>\n",
       "      <td>0.007576</td>\n",
       "    </tr>\n",
       "    <tr>\n",
       "      <th>V6</th>\n",
       "      <td>0.011291</td>\n",
       "    </tr>\n",
       "    <tr>\n",
       "      <th>V7</th>\n",
       "      <td>0.013857</td>\n",
       "    </tr>\n",
       "    <tr>\n",
       "      <th>V8</th>\n",
       "      <td>0.012235</td>\n",
       "    </tr>\n",
       "    <tr>\n",
       "      <th>V9</th>\n",
       "      <td>0.011358</td>\n",
       "    </tr>\n",
       "    <tr>\n",
       "      <th>V10</th>\n",
       "      <td>0.040735</td>\n",
       "    </tr>\n",
       "    <tr>\n",
       "      <th>V11</th>\n",
       "      <td>0.157615</td>\n",
       "    </tr>\n",
       "    <tr>\n",
       "      <th>V12</th>\n",
       "      <td>0.046264</td>\n",
       "    </tr>\n",
       "    <tr>\n",
       "      <th>V13</th>\n",
       "      <td>0.007248</td>\n",
       "    </tr>\n",
       "    <tr>\n",
       "      <th>V14</th>\n",
       "      <td>0.055143</td>\n",
       "    </tr>\n",
       "    <tr>\n",
       "      <th>V15</th>\n",
       "      <td>0.009053</td>\n",
       "    </tr>\n",
       "    <tr>\n",
       "      <th>V16</th>\n",
       "      <td>0.014681</td>\n",
       "    </tr>\n",
       "    <tr>\n",
       "      <th>V17</th>\n",
       "      <td>0.027425</td>\n",
       "    </tr>\n",
       "    <tr>\n",
       "      <th>V18</th>\n",
       "      <td>0.081646</td>\n",
       "    </tr>\n",
       "    <tr>\n",
       "      <th>V19</th>\n",
       "      <td>0.015975</td>\n",
       "    </tr>\n",
       "    <tr>\n",
       "      <th>V20</th>\n",
       "      <td>0.011796</td>\n",
       "    </tr>\n",
       "    <tr>\n",
       "      <th>V21</th>\n",
       "      <td>0.052024</td>\n",
       "    </tr>\n",
       "    <tr>\n",
       "      <th>V22</th>\n",
       "      <td>0.007358</td>\n",
       "    </tr>\n",
       "    <tr>\n",
       "      <th>V23</th>\n",
       "      <td>0.007087</td>\n",
       "    </tr>\n",
       "    <tr>\n",
       "      <th>V24</th>\n",
       "      <td>0.008704</td>\n",
       "    </tr>\n",
       "    <tr>\n",
       "      <th>V25</th>\n",
       "      <td>0.005401</td>\n",
       "    </tr>\n",
       "    <tr>\n",
       "      <th>V26</th>\n",
       "      <td>0.007478</td>\n",
       "    </tr>\n",
       "    <tr>\n",
       "      <th>V27</th>\n",
       "      <td>0.032563</td>\n",
       "    </tr>\n",
       "    <tr>\n",
       "      <th>V28</th>\n",
       "      <td>0.022934</td>\n",
       "    </tr>\n",
       "    <tr>\n",
       "      <th>Amount</th>\n",
       "      <td>0.015860</td>\n",
       "    </tr>\n",
       "  </tbody>\n",
       "</table>\n",
       "</div>"
      ],
      "text/plain": [
       "            coef\n",
       "Time    0.007263\n",
       "V1      0.010358\n",
       "V2      0.064937\n",
       "V3      0.032174\n",
       "V4      0.201959\n",
       "V5      0.007576\n",
       "V6      0.011291\n",
       "V7      0.013857\n",
       "V8      0.012235\n",
       "V9      0.011358\n",
       "V10     0.040735\n",
       "V11     0.157615\n",
       "V12     0.046264\n",
       "V13     0.007248\n",
       "V14     0.055143\n",
       "V15     0.009053\n",
       "V16     0.014681\n",
       "V17     0.027425\n",
       "V18     0.081646\n",
       "V19     0.015975\n",
       "V20     0.011796\n",
       "V21     0.052024\n",
       "V22     0.007358\n",
       "V23     0.007087\n",
       "V24     0.008704\n",
       "V25     0.005401\n",
       "V26     0.007478\n",
       "V27     0.032563\n",
       "V28     0.022934\n",
       "Amount  0.015860"
      ]
     },
     "execution_count": 240,
     "metadata": {},
     "output_type": "execute_result"
    }
   ],
   "source": [
    "tablo "
   ]
  },
  {
   "cell_type": "code",
   "execution_count": 244,
   "id": "db15447d-739d-4238-9f62-b371d65e879e",
   "metadata": {
    "tags": []
   },
   "outputs": [
    {
     "data": {
      "text/plain": [
       "array(['V2', 'V3', 'V4', 'V10', 'V11', 'V12', 'V14', 'V17', 'V18', 'V21',\n",
       "       'V27'], dtype=object)"
      ]
     },
     "execution_count": 244,
     "metadata": {},
     "output_type": "execute_result"
    }
   ],
   "source": [
    "tablo[tablo[\"coef\"]>0.025].index.values"
   ]
  },
  {
   "cell_type": "markdown",
   "id": "8c8777f7-efb1-4be3-b1de-142dbecd1cc3",
   "metadata": {},
   "source": [
    "### After feature importance, features with a value greater than 0.025 are selected "
   ]
  },
  {
   "cell_type": "code",
   "execution_count": 255,
   "id": "d51c9d3c-c7f8-49e6-bc81-4ddbdeb5c38a",
   "metadata": {
    "tags": []
   },
   "outputs": [],
   "source": [
    "df_imp=df[['V2', 'V3', 'V4', 'V10', 'V11', 'V12', 'V14', 'V17', 'V18', 'V21',\n",
    "       'V27',\"Class\"]]"
   ]
  },
  {
   "cell_type": "code",
   "execution_count": 256,
   "id": "311f0a5f-4873-4d26-b9d2-11ef202518bb",
   "metadata": {
    "tags": []
   },
   "outputs": [
    {
     "data": {
      "text/html": [
       "<div>\n",
       "<style scoped>\n",
       "    .dataframe tbody tr th:only-of-type {\n",
       "        vertical-align: middle;\n",
       "    }\n",
       "\n",
       "    .dataframe tbody tr th {\n",
       "        vertical-align: top;\n",
       "    }\n",
       "\n",
       "    .dataframe thead th {\n",
       "        text-align: right;\n",
       "    }\n",
       "</style>\n",
       "<table border=\"1\" class=\"dataframe\">\n",
       "  <thead>\n",
       "    <tr style=\"text-align: right;\">\n",
       "      <th></th>\n",
       "      <th>V2</th>\n",
       "      <th>V3</th>\n",
       "      <th>V4</th>\n",
       "      <th>V10</th>\n",
       "      <th>V11</th>\n",
       "      <th>V12</th>\n",
       "      <th>V14</th>\n",
       "      <th>V17</th>\n",
       "      <th>V18</th>\n",
       "      <th>V21</th>\n",
       "      <th>V27</th>\n",
       "      <th>Class</th>\n",
       "    </tr>\n",
       "  </thead>\n",
       "  <tbody>\n",
       "    <tr>\n",
       "      <th>0</th>\n",
       "      <td>-0.075566</td>\n",
       "      <td>1.263094</td>\n",
       "      <td>0.866325</td>\n",
       "      <td>0.086906</td>\n",
       "      <td>-0.551600</td>\n",
       "      <td>-0.961813</td>\n",
       "      <td>-0.372760</td>\n",
       "      <td>0.188942</td>\n",
       "      <td>0.025791</td>\n",
       "      <td>-0.018476</td>\n",
       "      <td>0.125362</td>\n",
       "      <td>0</td>\n",
       "    </tr>\n",
       "    <tr>\n",
       "      <th>1</th>\n",
       "      <td>0.235981</td>\n",
       "      <td>0.153991</td>\n",
       "      <td>0.370290</td>\n",
       "      <td>-0.182691</td>\n",
       "      <td>1.612727</td>\n",
       "      <td>0.725244</td>\n",
       "      <td>-0.155219</td>\n",
       "      <td>-0.121947</td>\n",
       "      <td>-0.183361</td>\n",
       "      <td>-0.255893</td>\n",
       "      <td>-0.009024</td>\n",
       "      <td>0</td>\n",
       "    </tr>\n",
       "    <tr>\n",
       "      <th>2</th>\n",
       "      <td>NaN</td>\n",
       "      <td>1.020005</td>\n",
       "      <td>0.321924</td>\n",
       "      <td>0.188670</td>\n",
       "      <td>0.624501</td>\n",
       "      <td>0.063992</td>\n",
       "      <td>-0.181457</td>\n",
       "      <td>0.746673</td>\n",
       "      <td>-0.121359</td>\n",
       "      <td>0.221541</td>\n",
       "      <td>-0.056944</td>\n",
       "      <td>0</td>\n",
       "    </tr>\n",
       "    <tr>\n",
       "      <th>3</th>\n",
       "      <td>-0.204845</td>\n",
       "      <td>1.027114</td>\n",
       "      <td>-1.989903</td>\n",
       "      <td>-0.056519</td>\n",
       "      <td>-0.226487</td>\n",
       "      <td>0.164012</td>\n",
       "      <td>-0.339570</td>\n",
       "      <td>-1.152307</td>\n",
       "      <td>1.965775</td>\n",
       "      <td>-0.114626</td>\n",
       "      <td>0.060834</td>\n",
       "      <td>0</td>\n",
       "    </tr>\n",
       "    <tr>\n",
       "      <th>4</th>\n",
       "      <td>0.630067</td>\n",
       "      <td>0.935590</td>\n",
       "      <td>0.338637</td>\n",
       "      <td>0.561371</td>\n",
       "      <td>-0.822843</td>\n",
       "      <td>0.430610</td>\n",
       "      <td>NaN</td>\n",
       "      <td>-0.270541</td>\n",
       "      <td>-0.038195</td>\n",
       "      <td>-0.009475</td>\n",
       "      <td>0.198377</td>\n",
       "      <td>0</td>\n",
       "    </tr>\n",
       "    <tr>\n",
       "      <th>...</th>\n",
       "      <td>...</td>\n",
       "      <td>...</td>\n",
       "      <td>...</td>\n",
       "      <td>...</td>\n",
       "      <td>...</td>\n",
       "      <td>...</td>\n",
       "      <td>...</td>\n",
       "      <td>...</td>\n",
       "      <td>...</td>\n",
       "      <td>...</td>\n",
       "      <td>...</td>\n",
       "      <td>...</td>\n",
       "    </tr>\n",
       "    <tr>\n",
       "      <th>284802</th>\n",
       "      <td>2.404400</td>\n",
       "      <td>NaN</td>\n",
       "      <td>NaN</td>\n",
       "      <td>1.678249</td>\n",
       "      <td>-1.593105</td>\n",
       "      <td>1.311555</td>\n",
       "      <td>1.727566</td>\n",
       "      <td>1.095839</td>\n",
       "      <td>0.510632</td>\n",
       "      <td>0.193471</td>\n",
       "      <td>0.664568</td>\n",
       "      <td>0</td>\n",
       "    </tr>\n",
       "    <tr>\n",
       "      <th>284803</th>\n",
       "      <td>-0.056656</td>\n",
       "      <td>1.110221</td>\n",
       "      <td>-1.341660</td>\n",
       "      <td>-3.726625</td>\n",
       "      <td>-0.150189</td>\n",
       "      <td>0.650136</td>\n",
       "      <td>-1.124370</td>\n",
       "      <td>-0.026029</td>\n",
       "      <td>-1.221179</td>\n",
       "      <td>0.194090</td>\n",
       "      <td>0.066230</td>\n",
       "      <td>0</td>\n",
       "    </tr>\n",
       "    <tr>\n",
       "      <th>284804</th>\n",
       "      <td>-0.358468</td>\n",
       "      <td>NaN</td>\n",
       "      <td>-0.816057</td>\n",
       "      <td>-0.663165</td>\n",
       "      <td>0.411614</td>\n",
       "      <td>0.061207</td>\n",
       "      <td>-0.714579</td>\n",
       "      <td>0.272697</td>\n",
       "      <td>0.395652</td>\n",
       "      <td>0.208675</td>\n",
       "      <td>0.004445</td>\n",
       "      <td>0</td>\n",
       "    </tr>\n",
       "    <tr>\n",
       "      <th>284805</th>\n",
       "      <td>0.425583</td>\n",
       "      <td>0.532104</td>\n",
       "      <td>0.524610</td>\n",
       "      <td>-0.509369</td>\n",
       "      <td>-1.933849</td>\n",
       "      <td>-3.293765</td>\n",
       "      <td>0.371305</td>\n",
       "      <td>0.412062</td>\n",
       "      <td>1.113981</td>\n",
       "      <td>0.235266</td>\n",
       "      <td>0.103297</td>\n",
       "      <td>0</td>\n",
       "    </tr>\n",
       "    <tr>\n",
       "      <th>284806</th>\n",
       "      <td>-0.210392</td>\n",
       "      <td>0.532589</td>\n",
       "      <td>-0.705769</td>\n",
       "      <td>-2.470136</td>\n",
       "      <td>-1.040458</td>\n",
       "      <td>-0.032020</td>\n",
       "      <td>-0.088084</td>\n",
       "      <td>-1.079918</td>\n",
       "      <td>0.167430</td>\n",
       "      <td>0.231951</td>\n",
       "      <td>-0.002418</td>\n",
       "      <td>0</td>\n",
       "    </tr>\n",
       "  </tbody>\n",
       "</table>\n",
       "<p>283726 rows × 12 columns</p>\n",
       "</div>"
      ],
      "text/plain": [
       "              V2        V3        V4       V10       V11       V12       V14  \\\n",
       "0      -0.075566  1.263094  0.866325  0.086906 -0.551600 -0.961813 -0.372760   \n",
       "1       0.235981  0.153991  0.370290 -0.182691  1.612727  0.725244 -0.155219   \n",
       "2            NaN  1.020005  0.321924  0.188670  0.624501  0.063992 -0.181457   \n",
       "3      -0.204845  1.027114 -1.989903 -0.056519 -0.226487  0.164012 -0.339570   \n",
       "4       0.630067  0.935590  0.338637  0.561371 -0.822843  0.430610       NaN   \n",
       "...          ...       ...       ...       ...       ...       ...       ...   \n",
       "284802  2.404400       NaN       NaN  1.678249 -1.593105  1.311555  1.727566   \n",
       "284803 -0.056656  1.110221 -1.341660 -3.726625 -0.150189  0.650136 -1.124370   \n",
       "284804 -0.358468       NaN -0.816057 -0.663165  0.411614  0.061207 -0.714579   \n",
       "284805  0.425583  0.532104  0.524610 -0.509369 -1.933849 -3.293765  0.371305   \n",
       "284806 -0.210392  0.532589 -0.705769 -2.470136 -1.040458 -0.032020 -0.088084   \n",
       "\n",
       "             V17       V18       V21       V27  Class  \n",
       "0       0.188942  0.025791 -0.018476  0.125362      0  \n",
       "1      -0.121947 -0.183361 -0.255893 -0.009024      0  \n",
       "2       0.746673 -0.121359  0.221541 -0.056944      0  \n",
       "3      -1.152307  1.965775 -0.114626  0.060834      0  \n",
       "4      -0.270541 -0.038195 -0.009475  0.198377      0  \n",
       "...          ...       ...       ...       ...    ...  \n",
       "284802  1.095839  0.510632  0.193471  0.664568      0  \n",
       "284803 -0.026029 -1.221179  0.194090  0.066230      0  \n",
       "284804  0.272697  0.395652  0.208675  0.004445      0  \n",
       "284805  0.412062  1.113981  0.235266  0.103297      0  \n",
       "284806 -1.079918  0.167430  0.231951 -0.002418      0  \n",
       "\n",
       "[283726 rows x 12 columns]"
      ]
     },
     "execution_count": 256,
     "metadata": {},
     "output_type": "execute_result"
    }
   ],
   "source": [
    "df_imp"
   ]
  },
  {
   "cell_type": "code",
   "execution_count": 257,
   "id": "b57684cc-cb28-4fea-8f07-b61ff0eb7a11",
   "metadata": {
    "tags": []
   },
   "outputs": [],
   "source": [
    "X=df_imp.drop(\"Class\",1)\n",
    "y=df_imp[\"Class\"]"
   ]
  },
  {
   "cell_type": "code",
   "execution_count": 258,
   "id": "83fa0e1a-2747-4b6f-8cca-b4f2692cf98d",
   "metadata": {
    "tags": []
   },
   "outputs": [],
   "source": [
    "X_train, X_test, y_train, y_test=train_test_split(X,y,test_size=0.2, stratify=y)"
   ]
  },
  {
   "cell_type": "code",
   "execution_count": 261,
   "id": "04c7a22b-da00-47d5-8493-8b8416c6a05e",
   "metadata": {
    "tags": []
   },
   "outputs": [],
   "source": [
    "for i in X_train.columns:\n",
    "    X_train[i]=X_train[i].fillna(X_train[i].mean())\n",
    "for i in X_test.columns:\n",
    "    X_test[i]=X_test[i].fillna(X_test[i].mean())"
   ]
  },
  {
   "cell_type": "markdown",
   "id": "9ae89c2e-8351-42e8-b71b-4861cd2d10b5",
   "metadata": {},
   "source": [
    "### undersample modeling with new data with less features"
   ]
  },
  {
   "cell_type": "code",
   "execution_count": 262,
   "id": "caf9b84e-fc13-46bb-ba57-35d46155c0bb",
   "metadata": {
    "tags": []
   },
   "outputs": [],
   "source": [
    "random=RandomUnderSampler(sampling_strategy=0.5, replacement=False)\n",
    "X_rand, y_rand= random.fit_resample(X_train, y_train)"
   ]
  },
  {
   "cell_type": "code",
   "execution_count": 263,
   "id": "d6a754e0-7268-4c9e-b49a-956cadda0475",
   "metadata": {
    "tags": []
   },
   "outputs": [],
   "source": [
    "rf=RandomForestClassifier()\n",
    "rf.fit(X_rand, y_rand)\n",
    "y_pred=rf.predict(X_test)"
   ]
  },
  {
   "cell_type": "code",
   "execution_count": 264,
   "id": "ba36ac63-84df-48fe-ae6c-4f68c2ffd5e1",
   "metadata": {
    "tags": []
   },
   "outputs": [
    {
     "name": "stdout",
     "output_type": "stream",
     "text": [
      "              precision    recall  f1-score   support\n",
      "\n",
      "           0       1.00      0.99      1.00     56651\n",
      "           1       0.14      0.81      0.23        95\n",
      "\n",
      "    accuracy                           0.99     56746\n",
      "   macro avg       0.57      0.90      0.61     56746\n",
      "weighted avg       1.00      0.99      0.99     56746\n",
      "\n"
     ]
    }
   ],
   "source": [
    "print(classification_report(y_test, y_pred))"
   ]
  },
  {
   "cell_type": "code",
   "execution_count": 265,
   "id": "3bcca5e7-a7a4-490b-a40c-69e7f3519bec",
   "metadata": {
    "tags": []
   },
   "outputs": [
    {
     "data": {
      "text/plain": [
       "array([[56162,   489],\n",
       "       [   18,    77]], dtype=int64)"
      ]
     },
     "execution_count": 265,
     "metadata": {},
     "output_type": "execute_result"
    }
   ],
   "source": [
    "confusion_matrix(y_test, y_pred)"
   ]
  },
  {
   "cell_type": "code",
   "execution_count": 270,
   "id": "3f443264-9ab5-4d35-8534-a83bf7b2be42",
   "metadata": {
    "tags": []
   },
   "outputs": [
    {
     "name": "stdout",
     "output_type": "stream",
     "text": [
      "              precision    recall  f1-score   support\n",
      "\n",
      "           0       1.00      1.00      1.00     56651\n",
      "           1       0.50      0.77      0.61        95\n",
      "\n",
      "    accuracy                           1.00     56746\n",
      "   macro avg       0.75      0.88      0.80     56746\n",
      "weighted avg       1.00      1.00      1.00     56746\n",
      "\n"
     ]
    },
    {
     "data": {
      "text/plain": [
       "array([[56579,    72],\n",
       "       [   22,    73]], dtype=int64)"
      ]
     },
     "execution_count": 270,
     "metadata": {},
     "output_type": "execute_result"
    }
   ],
   "source": [
    "y_prob=(rf.predict_proba(X_test)[:,1]>=0.8).astype(float)\n",
    "print(classification_report(y_test, y_prob))\n",
    "confusion_matrix(y_test, y_prob)"
   ]
  },
  {
   "cell_type": "markdown",
   "id": "4c390f5b-5b38-46bd-8564-bf04315bef19",
   "metadata": {},
   "source": [
    "## As a result, we had very close true positive rate to previous model on new less features model but higher false positive and higher false negative rates."
   ]
  },
  {
   "cell_type": "code",
   "execution_count": null,
   "id": "0ffdbe1d-fea1-4fab-8743-fcbc9b92ef0f",
   "metadata": {},
   "outputs": [],
   "source": []
  }
 ],
 "metadata": {
  "kernelspec": {
   "display_name": "Python 3 (ipykernel)",
   "language": "python",
   "name": "python3"
  },
  "language_info": {
   "codemirror_mode": {
    "name": "ipython",
    "version": 3
   },
   "file_extension": ".py",
   "mimetype": "text/x-python",
   "name": "python",
   "nbconvert_exporter": "python",
   "pygments_lexer": "ipython3",
   "version": "3.11.3"
  }
 },
 "nbformat": 4,
 "nbformat_minor": 5
}
